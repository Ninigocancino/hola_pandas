{
 "cells": [
  {
   "cell_type": "markdown",
   "metadata": {},
   "source": [
    "#Cargar y leer datos en Pandas"
   ]
  },
  {
   "cell_type": "markdown",
   "metadata": {},
   "source": [
    "La carga y lectura de archivos es un paso necesario al trabajar con datos,por lo cuál aprender a traer datos de otros archivos a nuestros proyectos es de suma importancia. Pandas es una herramienta poderosa que permite la importación o lectura de datos desde diferentes formatos como archivos CSV, Excel, bases de datos, JSON y más. Acontinuación descubriremos juntos cómo cargar archivos en nustros Pandas:"
   ]
  },
  {
   "cell_type": "markdown",
   "metadata": {},
   "source": [
    "**Paso número 1, importar la biblioteca Pandas:**\n",
    "\n",
    "Antes de cargar cualquier archivo debes serciorarte de contar con la biblioteca pandas instalada en tu entorno de trabajo y de haber importado pandas a tu archivo ya sea .py o .ipynb"
   ]
  },
  {
   "cell_type": "markdown",
   "metadata": {},
   "source": [
    "Para instalar Pandas en tu entorno de trabajo debes ejecutar el siguiente comando en tu terminal o entrono:"
   ]
  },
  {
   "cell_type": "markdown",
   "metadata": {},
   "source": [
    "*pip install pandas* "
   ]
  },
  {
   "cell_type": "markdown",
   "metadata": {},
   "source": [
    "Una vez que tienes pandas isntalado deberás importarlo a tu archivo de la siguiente forma"
   ]
  },
  {
   "cell_type": "code",
   "execution_count": 1,
   "metadata": {},
   "outputs": [],
   "source": [
    "import pandas as pd"
   ]
  },
  {
   "cell_type": "markdown",
   "metadata": {},
   "source": [
    "**Paso número 2, Cargar un archivo CSV:**\n",
    "\n",
    "Los archivos más comunes con los que te encontrars al trabajar con datos probablemente sean los de tipo  csv o archiuvos separados por comas.Para cargar un archivo CSV en Pandas, puedes usar el método read_csv, asegurandote de proporcionar la ruta al archivo CSV como argumento."
   ]
  },
  {
   "cell_type": "code",
   "execution_count": null,
   "metadata": {},
   "outputs": [],
   "source": [
    "#esta es la sintaxis para realizar está acción\n",
    "#este es un ejemplo por lo que evita ejecutar está linea de codigo, más adelante podremos hacerlo en uno de los eejercicios de practica\n",
    "df = pd.read_csv('archivo.csv')"
   ]
  },
  {
   "cell_type": "markdown",
   "metadata": {},
   "source": [
    "Esto creará un DataFrame a partir de los datos en el archivo CSV."
   ]
  },
  {
   "cell_type": "markdown",
   "metadata": {},
   "source": [
    "**Paso número tres, Cargar otros tipos de archivos:**\n",
    "Pandas también admite la carga de otros tipos de archivos, como Excel, JSON, SQL, y más. Para cargar datos desde estos tipos de archivos, puedes usar funciones específicas, como read_excel, read_json, y read_sql."
   ]
  },
  {
   "cell_type": "code",
   "execution_count": null,
   "metadata": {},
   "outputs": [],
   "source": [
    "#Ejemplo de carga de archivos en formato excel\n",
    "#No ejecutes está línea de código\n",
    "\n",
    "df = pd.read_excel('archivo.xlsx')"
   ]
  },
  {
   "cell_type": "code",
   "execution_count": null,
   "metadata": {},
   "outputs": [],
   "source": [
    "#Ejemplo de carga de archivos en formato json\n",
    "#No ejecutes está línea de código\n",
    "\n",
    "df = pd.read_json('archivo.json')"
   ]
  },
  {
   "cell_type": "markdown",
   "metadata": {},
   "source": [
    "**Paso número cuatro, Especificación de delimitadores y opciones:**\n",
    "\n",
    "Si tu archivo CSV u otro formato requiere delimitadores especiales o tiene opciones específicas, puedes proporcionar argumentos adicionales a las funciones de lectura. Por ejemplo, para un CSV con un delimitador diferente al estándar de coma (\",\"), puedes especificarlo:"
   ]
  },
  {
   "cell_type": "code",
   "execution_count": null,
   "metadata": {},
   "outputs": [],
   "source": [
    "#Ejemplo de como especificar delimitadores\n",
    "#No ejecutes está línea de código\n",
    "\n",
    "df = pd.read_csv('archivo.csv', delimiter=';')\n"
   ]
  },
  {
   "cell_type": "markdown",
   "metadata": {},
   "source": [
    "#Ejercicios"
   ]
  },
  {
   "cell_type": "markdown",
   "metadata": {},
   "source": [
    "Para realizar los ejercicios usaremos un archivo en diferente formato el cuál crearemos usando pandas y sqlite3 para formato db"
   ]
  },
  {
   "cell_type": "code",
   "execution_count": 2,
   "metadata": {},
   "outputs": [],
   "source": [
    "import pandas as pd\n",
    "import sqlite3"
   ]
  },
  {
   "cell_type": "code",
   "execution_count": 4,
   "metadata": {},
   "outputs": [],
   "source": [
    "data = {\n",
    "    'Raza': ['Labrador Retriever', 'Golden Retriever', 'Bulldog', 'Poodle', 'German Shepherd', 'Beagle', 'Rottweiler', 'Yorkshire Terrier', 'Boxer', 'Dachshund'],\n",
    "    'Talla': ['Grande', 'Grande', 'Mediana', 'Mediana', 'Grande', 'Pequeña', 'Grande', 'Pequeña', 'Grande', 'Pequeña'],\n",
    "    'Peso (aprox.)': [30, 75, 50, 60, 75, 20, 95, 7, 70, 15],\n",
    "    'País de Origen': ['Reino Unido', 'Reino Unido', 'Reino Unido', 'Francia', 'Alemania', 'Reino Unido', 'Alemania', 'Reino Unido', 'Alemania', 'Alemania'],\n",
    "}\n",
    "\n",
    "# Crear un DataFrame\n",
    "df = pd.DataFrame(data)\n",
    "\n",
    "# Exportar a CSV\n",
    "df.to_csv('10_razas_de_perros.csv', index=False)\n",
    "\n"
   ]
  },
  {
   "cell_type": "code",
   "execution_count": 8,
   "metadata": {},
   "outputs": [],
   "source": [
    "\n",
    "# Exportar a Excel (XLS)\n",
    "df.to_excel('10_razas_de_perros.xlsx', index=False)"
   ]
  },
  {
   "cell_type": "code",
   "execution_count": 6,
   "metadata": {},
   "outputs": [],
   "source": [
    "# Exportar a JSON\n",
    "df.to_json('10_razas_razas_de_perros.json', orient='records')\n"
   ]
  },
  {
   "cell_type": "code",
   "execution_count": 7,
   "metadata": {},
   "outputs": [
    {
     "name": "stderr",
     "output_type": "stream",
     "text": [
      "c:\\Users\\juanv\\proyectos_con_python\\hola_pandas\\venv_hola_pandas\\lib\\site-packages\\pandas\\core\\generic.py:2882: UserWarning: The spaces in these column names will not be changed. In pandas versions < 0.14, spaces were converted to underscores.\n",
      "  method=method,\n"
     ]
    }
   ],
   "source": [
    "# Exportar a SQL (SQLite)\n",
    "conn = sqlite3.connect('10_razas_de_perros.db')\n",
    "df.to_sql('10_razas_de_perros', conn, if_exists='replace', index=False)\n",
    "conn.close()"
   ]
  },
  {
   "cell_type": "markdown",
   "metadata": {},
   "source": [
    "El código anterior creará 4 nuevos archivos en el directorio, una vez creado los archivos podrás ejecutar las siguientes líneas de código"
   ]
  },
  {
   "cell_type": "markdown",
   "metadata": {},
   "source": [
    "**Ejercicio 1: Carga de un archivo CSV**\n",
    "\n",
    "1.   Carga el archivo CSV en Pandas utilizando pd.read_csv.\n",
    "2.   Muestra las primeras filas del DataFrame para explorar los datos."
   ]
  },
  {
   "cell_type": "code",
   "execution_count": 9,
   "metadata": {},
   "outputs": [],
   "source": [
    "df_csv = pd.read_csv(\"10_razas_de_perros.csv\")"
   ]
  },
  {
   "cell_type": "code",
   "execution_count": 10,
   "metadata": {},
   "outputs": [
    {
     "data": {
      "text/html": [
       "<div>\n",
       "<style scoped>\n",
       "    .dataframe tbody tr th:only-of-type {\n",
       "        vertical-align: middle;\n",
       "    }\n",
       "\n",
       "    .dataframe tbody tr th {\n",
       "        vertical-align: top;\n",
       "    }\n",
       "\n",
       "    .dataframe thead th {\n",
       "        text-align: right;\n",
       "    }\n",
       "</style>\n",
       "<table border=\"1\" class=\"dataframe\">\n",
       "  <thead>\n",
       "    <tr style=\"text-align: right;\">\n",
       "      <th></th>\n",
       "      <th>Raza</th>\n",
       "      <th>Talla</th>\n",
       "      <th>Peso (aprox.)</th>\n",
       "      <th>País de Origen</th>\n",
       "    </tr>\n",
       "  </thead>\n",
       "  <tbody>\n",
       "    <tr>\n",
       "      <th>0</th>\n",
       "      <td>Labrador Retriever</td>\n",
       "      <td>Grande</td>\n",
       "      <td>30</td>\n",
       "      <td>Reino Unido</td>\n",
       "    </tr>\n",
       "    <tr>\n",
       "      <th>1</th>\n",
       "      <td>Golden Retriever</td>\n",
       "      <td>Grande</td>\n",
       "      <td>75</td>\n",
       "      <td>Reino Unido</td>\n",
       "    </tr>\n",
       "    <tr>\n",
       "      <th>2</th>\n",
       "      <td>Bulldog</td>\n",
       "      <td>Mediana</td>\n",
       "      <td>50</td>\n",
       "      <td>Reino Unido</td>\n",
       "    </tr>\n",
       "    <tr>\n",
       "      <th>3</th>\n",
       "      <td>Poodle</td>\n",
       "      <td>Mediana</td>\n",
       "      <td>60</td>\n",
       "      <td>Francia</td>\n",
       "    </tr>\n",
       "    <tr>\n",
       "      <th>4</th>\n",
       "      <td>German Shepherd</td>\n",
       "      <td>Grande</td>\n",
       "      <td>75</td>\n",
       "      <td>Alemania</td>\n",
       "    </tr>\n",
       "  </tbody>\n",
       "</table>\n",
       "</div>"
      ],
      "text/plain": [
       "                 Raza    Talla  Peso (aprox.) País de Origen\n",
       "0  Labrador Retriever   Grande             30    Reino Unido\n",
       "1    Golden Retriever   Grande             75    Reino Unido\n",
       "2             Bulldog  Mediana             50    Reino Unido\n",
       "3              Poodle  Mediana             60        Francia\n",
       "4     German Shepherd   Grande             75       Alemania"
      ]
     },
     "execution_count": 10,
     "metadata": {},
     "output_type": "execute_result"
    }
   ],
   "source": [
    "df_csv.head(5)"
   ]
  },
  {
   "cell_type": "markdown",
   "metadata": {},
   "source": [
    "**Ejercicio 2: Carga de un archivo Excel**\n",
    "\n",
    "1.   Carga el archivo Excel en Pandas utilizando pd.read_excel.\n",
    "2.   Muestra información básica sobre el DataFrame, como la cantidad de filas, columnas y tipos de datos.\n"
   ]
  },
  {
   "cell_type": "code",
   "execution_count": 11,
   "metadata": {},
   "outputs": [
    {
     "data": {
      "text/html": [
       "<div>\n",
       "<style scoped>\n",
       "    .dataframe tbody tr th:only-of-type {\n",
       "        vertical-align: middle;\n",
       "    }\n",
       "\n",
       "    .dataframe tbody tr th {\n",
       "        vertical-align: top;\n",
       "    }\n",
       "\n",
       "    .dataframe thead th {\n",
       "        text-align: right;\n",
       "    }\n",
       "</style>\n",
       "<table border=\"1\" class=\"dataframe\">\n",
       "  <thead>\n",
       "    <tr style=\"text-align: right;\">\n",
       "      <th></th>\n",
       "      <th>Raza</th>\n",
       "      <th>Talla</th>\n",
       "      <th>Peso (aprox.)</th>\n",
       "      <th>País de Origen</th>\n",
       "    </tr>\n",
       "  </thead>\n",
       "  <tbody>\n",
       "    <tr>\n",
       "      <th>0</th>\n",
       "      <td>Labrador Retriever</td>\n",
       "      <td>Grande</td>\n",
       "      <td>30</td>\n",
       "      <td>Reino Unido</td>\n",
       "    </tr>\n",
       "    <tr>\n",
       "      <th>1</th>\n",
       "      <td>Golden Retriever</td>\n",
       "      <td>Grande</td>\n",
       "      <td>75</td>\n",
       "      <td>Reino Unido</td>\n",
       "    </tr>\n",
       "    <tr>\n",
       "      <th>2</th>\n",
       "      <td>Bulldog</td>\n",
       "      <td>Mediana</td>\n",
       "      <td>50</td>\n",
       "      <td>Reino Unido</td>\n",
       "    </tr>\n",
       "    <tr>\n",
       "      <th>3</th>\n",
       "      <td>Poodle</td>\n",
       "      <td>Mediana</td>\n",
       "      <td>60</td>\n",
       "      <td>Francia</td>\n",
       "    </tr>\n",
       "    <tr>\n",
       "      <th>4</th>\n",
       "      <td>German Shepherd</td>\n",
       "      <td>Grande</td>\n",
       "      <td>75</td>\n",
       "      <td>Alemania</td>\n",
       "    </tr>\n",
       "  </tbody>\n",
       "</table>\n",
       "</div>"
      ],
      "text/plain": [
       "                 Raza    Talla  Peso (aprox.) País de Origen\n",
       "0  Labrador Retriever   Grande             30    Reino Unido\n",
       "1    Golden Retriever   Grande             75    Reino Unido\n",
       "2             Bulldog  Mediana             50    Reino Unido\n",
       "3              Poodle  Mediana             60        Francia\n",
       "4     German Shepherd   Grande             75       Alemania"
      ]
     },
     "execution_count": 11,
     "metadata": {},
     "output_type": "execute_result"
    }
   ],
   "source": [
    "df_xls = pd.read_excel(\"10_razas_de_perros.xlsx\")\n",
    "\n",
    "df_xls.head(5)"
   ]
  },
  {
   "cell_type": "markdown",
   "metadata": {},
   "source": [
    "**Ejercicio 3: Carga de datos JSON**\n",
    "\n",
    "1.   Carga el archivo JSON en Pandas utilizando pd.read_json.\n",
    "2.   Realiza una inspección de los datos utilizando las funciones head(), info() y describe()."
   ]
  },
  {
   "cell_type": "code",
   "execution_count": 12,
   "metadata": {},
   "outputs": [
    {
     "data": {
      "text/html": [
       "<div>\n",
       "<style scoped>\n",
       "    .dataframe tbody tr th:only-of-type {\n",
       "        vertical-align: middle;\n",
       "    }\n",
       "\n",
       "    .dataframe tbody tr th {\n",
       "        vertical-align: top;\n",
       "    }\n",
       "\n",
       "    .dataframe thead th {\n",
       "        text-align: right;\n",
       "    }\n",
       "</style>\n",
       "<table border=\"1\" class=\"dataframe\">\n",
       "  <thead>\n",
       "    <tr style=\"text-align: right;\">\n",
       "      <th></th>\n",
       "      <th>Raza</th>\n",
       "      <th>Talla</th>\n",
       "      <th>Peso (aprox.)</th>\n",
       "      <th>País de Origen</th>\n",
       "    </tr>\n",
       "  </thead>\n",
       "  <tbody>\n",
       "    <tr>\n",
       "      <th>0</th>\n",
       "      <td>Labrador Retriever</td>\n",
       "      <td>Grande</td>\n",
       "      <td>30</td>\n",
       "      <td>Reino Unido</td>\n",
       "    </tr>\n",
       "    <tr>\n",
       "      <th>1</th>\n",
       "      <td>Golden Retriever</td>\n",
       "      <td>Grande</td>\n",
       "      <td>75</td>\n",
       "      <td>Reino Unido</td>\n",
       "    </tr>\n",
       "    <tr>\n",
       "      <th>2</th>\n",
       "      <td>Bulldog</td>\n",
       "      <td>Mediana</td>\n",
       "      <td>50</td>\n",
       "      <td>Reino Unido</td>\n",
       "    </tr>\n",
       "    <tr>\n",
       "      <th>3</th>\n",
       "      <td>Poodle</td>\n",
       "      <td>Mediana</td>\n",
       "      <td>60</td>\n",
       "      <td>Francia</td>\n",
       "    </tr>\n",
       "    <tr>\n",
       "      <th>4</th>\n",
       "      <td>German Shepherd</td>\n",
       "      <td>Grande</td>\n",
       "      <td>75</td>\n",
       "      <td>Alemania</td>\n",
       "    </tr>\n",
       "  </tbody>\n",
       "</table>\n",
       "</div>"
      ],
      "text/plain": [
       "                 Raza    Talla  Peso (aprox.) País de Origen\n",
       "0  Labrador Retriever   Grande             30    Reino Unido\n",
       "1    Golden Retriever   Grande             75    Reino Unido\n",
       "2             Bulldog  Mediana             50    Reino Unido\n",
       "3              Poodle  Mediana             60        Francia\n",
       "4     German Shepherd   Grande             75       Alemania"
      ]
     },
     "execution_count": 12,
     "metadata": {},
     "output_type": "execute_result"
    }
   ],
   "source": [
    "df_json = pd.read_json(\"10_razas_razas_de_perros.json\")\n",
    "\n",
    "df_json.head(5)"
   ]
  },
  {
   "cell_type": "code",
   "execution_count": 13,
   "metadata": {},
   "outputs": [
    {
     "name": "stdout",
     "output_type": "stream",
     "text": [
      "<class 'pandas.core.frame.DataFrame'>\n",
      "RangeIndex: 10 entries, 0 to 9\n",
      "Data columns (total 4 columns):\n",
      " #   Column          Non-Null Count  Dtype \n",
      "---  ------          --------------  ----- \n",
      " 0   Raza            10 non-null     object\n",
      " 1   Talla           10 non-null     object\n",
      " 2   Peso (aprox.)   10 non-null     int64 \n",
      " 3   País de Origen  10 non-null     object\n",
      "dtypes: int64(1), object(3)\n",
      "memory usage: 264.0+ bytes\n"
     ]
    }
   ],
   "source": [
    "df_json.info()"
   ]
  },
  {
   "cell_type": "code",
   "execution_count": 14,
   "metadata": {},
   "outputs": [
    {
     "data": {
      "text/html": [
       "<div>\n",
       "<style scoped>\n",
       "    .dataframe tbody tr th:only-of-type {\n",
       "        vertical-align: middle;\n",
       "    }\n",
       "\n",
       "    .dataframe tbody tr th {\n",
       "        vertical-align: top;\n",
       "    }\n",
       "\n",
       "    .dataframe thead th {\n",
       "        text-align: right;\n",
       "    }\n",
       "</style>\n",
       "<table border=\"1\" class=\"dataframe\">\n",
       "  <thead>\n",
       "    <tr style=\"text-align: right;\">\n",
       "      <th></th>\n",
       "      <th>Peso (aprox.)</th>\n",
       "    </tr>\n",
       "  </thead>\n",
       "  <tbody>\n",
       "    <tr>\n",
       "      <th>count</th>\n",
       "      <td>10.000000</td>\n",
       "    </tr>\n",
       "    <tr>\n",
       "      <th>mean</th>\n",
       "      <td>49.700000</td>\n",
       "    </tr>\n",
       "    <tr>\n",
       "      <th>std</th>\n",
       "      <td>30.088942</td>\n",
       "    </tr>\n",
       "    <tr>\n",
       "      <th>min</th>\n",
       "      <td>7.000000</td>\n",
       "    </tr>\n",
       "    <tr>\n",
       "      <th>25%</th>\n",
       "      <td>22.500000</td>\n",
       "    </tr>\n",
       "    <tr>\n",
       "      <th>50%</th>\n",
       "      <td>55.000000</td>\n",
       "    </tr>\n",
       "    <tr>\n",
       "      <th>75%</th>\n",
       "      <td>73.750000</td>\n",
       "    </tr>\n",
       "    <tr>\n",
       "      <th>max</th>\n",
       "      <td>95.000000</td>\n",
       "    </tr>\n",
       "  </tbody>\n",
       "</table>\n",
       "</div>"
      ],
      "text/plain": [
       "       Peso (aprox.)\n",
       "count      10.000000\n",
       "mean       49.700000\n",
       "std        30.088942\n",
       "min         7.000000\n",
       "25%        22.500000\n",
       "50%        55.000000\n",
       "75%        73.750000\n",
       "max        95.000000"
      ]
     },
     "execution_count": 14,
     "metadata": {},
     "output_type": "execute_result"
    }
   ],
   "source": [
    "df_json.describe()"
   ]
  }
 ],
 "metadata": {
  "kernelspec": {
   "display_name": "venv_hola_pandas",
   "language": "python",
   "name": "python3"
  },
  "language_info": {
   "codemirror_mode": {
    "name": "ipython",
    "version": 3
   },
   "file_extension": ".py",
   "mimetype": "text/x-python",
   "name": "python",
   "nbconvert_exporter": "python",
   "pygments_lexer": "ipython3",
   "version": "3.7.3"
  }
 },
 "nbformat": 4,
 "nbformat_minor": 2
}
