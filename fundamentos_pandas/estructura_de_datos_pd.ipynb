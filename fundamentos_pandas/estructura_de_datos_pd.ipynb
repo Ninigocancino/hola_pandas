{
 "cells": [
  {
   "cell_type": "markdown",
   "metadata": {},
   "source": [
    "# Estructuras de datos en Pandas\n",
    "\n",
    "La libreria de Pandas ofrece dos estructuras de datos fundamentales las Series y los DataFrame ambas estructuras se consideran escenciales para el manejo y analisis de datos con Python."
   ]
  },
  {
   "cell_type": "markdown",
   "metadata": {},
   "source": [
    "## Series\n",
    "\n",
    "Podemos pensar en una serie de Pandas como si fuera una columna de excel o de una base de datos, es una estructura de datos unidimensional que se utiliza para almacenar y manipular datos.\n",
    "\n",
    "Cada elemento de una Serie tiene una etiqueta, llamada \"índice\", que puede ser una etiqueta numérica o una etiqueta personalizada. Las Series pueden contener datos de diversos tipos, incluyendo números, cadenas de texto, fechas y más.\n",
    "\n",
    "Una serie es un elemneto similar a un Array o una Lista de Python. "
   ]
  },
  {
   "cell_type": "markdown",
   "metadata": {},
   "source": [
    "**Podemos usar pandas para crear series de la siguiente forma**\n",
    "\n",
    "Primero debemos instalar dentro de nuestro entorno de trabajo la libreria usando PIP\n",
    "\n",
    "*pip install pandas*\n",
    "\n",
    "Una vez que Pandas esté instalado, puedes comenzar a usarlo en tu código. Importando la biblioteca en tus scripts de Python de la siguiente manera:"
   ]
  },
  {
   "cell_type": "code",
   "execution_count": 12,
   "metadata": {},
   "outputs": [],
   "source": [
    "#Se realiza la importación de la libreria a nuestro scrpit de python\n",
    "import pandas as pd"
   ]
  },
  {
   "cell_type": "markdown",
   "metadata": {},
   "source": [
    "Vamos a crear una serie a partir de una lista"
   ]
  },
  {
   "cell_type": "code",
   "execution_count": 13,
   "metadata": {},
   "outputs": [
    {
     "name": "stdout",
     "output_type": "stream",
     "text": [
      "[1, 2, 3, 4, 5, 6]\n"
     ]
    }
   ],
   "source": [
    "#Para lo cual definiremos primero la lista usando Python\n",
    "\n",
    "lista_e = [1,2,3,4,5,6]\n",
    "print(lista_e)"
   ]
  },
  {
   "cell_type": "code",
   "execution_count": 14,
   "metadata": {},
   "outputs": [
    {
     "name": "stdout",
     "output_type": "stream",
     "text": [
      "0    1\n",
      "1    2\n",
      "2    3\n",
      "3    4\n",
      "4    5\n",
      "5    6\n",
      "dtype: int64\n"
     ]
    }
   ],
   "source": [
    "#Usando el constructor pd.Series() Pandas realiza la transformacion de nuestra variable lista_e en una serie \n",
    "\n",
    "serie_e = pd.Series(lista_e)\n",
    "print(serie_e)"
   ]
  },
  {
   "cell_type": "markdown",
   "metadata": {},
   "source": [
    "### Practiquemos la construcción de series con Pandas"
   ]
  },
  {
   "cell_type": "markdown",
   "metadata": {},
   "source": [
    "**Ejercicio 1 (Creación de una Serie):**\n",
    "Crea una Serie que contenga los siguientes nombres de ciudades: \"Nueva York\", \"Los Ángeles\", \"Chicago\", \"Houston\" y \"Miami\". Asigna un índice numérico a cada ciudad."
   ]
  },
  {
   "cell_type": "code",
   "execution_count": 15,
   "metadata": {},
   "outputs": [
    {
     "name": "stdout",
     "output_type": "stream",
     "text": [
      "1     Nueva York\n",
      "2    Los Angeles\n",
      "3        Chicago\n",
      "4        Houston\n",
      "5          Miami\n",
      "dtype: object\n"
     ]
    }
   ],
   "source": [
    "ciudades = pd.Series([\"Nueva York\", \"Los Angeles\", \"Chicago\", \"Houston\", \"Miami\"], index=[1,2,3,4,5])\n",
    "print(ciudades)"
   ]
  },
  {
   "cell_type": "markdown",
   "metadata": {},
   "source": [
    "**Ejercicio 2 (Acceso a Elementos):**\n",
    "Accede al segundo elemento de la Serie creada en el ejercicio 1 y muestra el nombre de la ciudad."
   ]
  },
  {
   "cell_type": "code",
   "execution_count": 16,
   "metadata": {},
   "outputs": [
    {
     "data": {
      "text/plain": [
       "'Nueva York'"
      ]
     },
     "execution_count": 16,
     "metadata": {},
     "output_type": "execute_result"
    }
   ],
   "source": [
    "ciudades[1]"
   ]
  },
  {
   "cell_type": "markdown",
   "metadata": {},
   "source": [
    "**Ejercicio 3 (Operaciones Matemáticas):**\n",
    "Crea una Serie con datos numéricos y realiza operaciones matemáticas como suma, resta y multiplicación en los elementos de la Serie."
   ]
  },
  {
   "cell_type": "code",
   "execution_count": 17,
   "metadata": {},
   "outputs": [
    {
     "data": {
      "text/plain": [
       "0    1\n",
       "1    2\n",
       "2    3\n",
       "3    4\n",
       "4    5\n",
       "5    6\n",
       "dtype: int64"
      ]
     },
     "execution_count": 17,
     "metadata": {},
     "output_type": "execute_result"
    }
   ],
   "source": [
    "numeros = pd.Series([1,2,3,4,5,6])\n",
    "numeros"
   ]
  },
  {
   "cell_type": "code",
   "execution_count": 18,
   "metadata": {},
   "outputs": [
    {
     "name": "stdout",
     "output_type": "stream",
     "text": [
      "8\n"
     ]
    }
   ],
   "source": [
    "operacion = numeros[1] + numeros[5]\n",
    "print(operacion)"
   ]
  },
  {
   "cell_type": "markdown",
   "metadata": {},
   "source": [
    "**Ejercicio 4 (Filtrado de Datos):**\n",
    "A partir de una Serie de números, filtra y muestra los valores mayores que 50."
   ]
  },
  {
   "cell_type": "code",
   "execution_count": 19,
   "metadata": {},
   "outputs": [
    {
     "data": {
      "text/plain": [
       "0    10\n",
       "1    20\n",
       "2    34\n",
       "3    55\n",
       "4    88\n",
       "5    49\n",
       "6     8\n",
       "7    12\n",
       "dtype: int64"
      ]
     },
     "execution_count": 19,
     "metadata": {},
     "output_type": "execute_result"
    }
   ],
   "source": [
    "secuencia = pd.Series([10,20,34,55,88,49,8,12])\n",
    "secuencia"
   ]
  },
  {
   "cell_type": "code",
   "execution_count": 20,
   "metadata": {},
   "outputs": [
    {
     "data": {
      "text/plain": [
       "3    55\n",
       "4    88\n",
       "dtype: int64"
      ]
     },
     "execution_count": 20,
     "metadata": {},
     "output_type": "execute_result"
    }
   ],
   "source": [
    "filtro = secuencia[secuencia>50]\n",
    "filtro"
   ]
  },
  {
   "cell_type": "markdown",
   "metadata": {},
   "source": [
    "**Ejercicio 5 (Cambio de Índice):**\n",
    "Cambia el índice de la Serie del ejercicio 1 para que las ciudades tengan etiquetas personalizadas en lugar de índices numéricos."
   ]
  },
  {
   "cell_type": "code",
   "execution_count": 21,
   "metadata": {},
   "outputs": [
    {
     "data": {
      "text/plain": [
       "1     Nueva York\n",
       "2    Los Angeles\n",
       "3        Chicago\n",
       "4        Houston\n",
       "5          Miami\n",
       "dtype: object"
      ]
     },
     "execution_count": 21,
     "metadata": {},
     "output_type": "execute_result"
    }
   ],
   "source": [
    "ciudades"
   ]
  },
  {
   "cell_type": "code",
   "execution_count": 22,
   "metadata": {},
   "outputs": [
    {
     "data": {
      "text/plain": [
       "NY      Nueva York\n",
       "LA     Los Angeles\n",
       "CHI        Chicago\n",
       "HOU        Houston\n",
       "MIA          Miami\n",
       "dtype: object"
      ]
     },
     "execution_count": 22,
     "metadata": {},
     "output_type": "execute_result"
    }
   ],
   "source": [
    "ciudades.index = [\"NY\", \"LA\", \"CHI\", \"HOU\", \"MIA\"]\n",
    "ciudades"
   ]
  }
 ],
 "metadata": {
  "kernelspec": {
   "display_name": "venv_hola_pandas",
   "language": "python",
   "name": "python3"
  },
  "language_info": {
   "codemirror_mode": {
    "name": "ipython",
    "version": 3
   },
   "file_extension": ".py",
   "mimetype": "text/x-python",
   "name": "python",
   "nbconvert_exporter": "python",
   "pygments_lexer": "ipython3",
   "version": "3.7.3"
  }
 },
 "nbformat": 4,
 "nbformat_minor": 2
}
