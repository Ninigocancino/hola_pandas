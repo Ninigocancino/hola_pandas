{
 "cells": [
  {
   "cell_type": "markdown",
   "metadata": {},
   "source": [
    "# Introducción"
   ]
  },
  {
   "cell_type": "markdown",
   "metadata": {},
   "source": [
    "Las operaciones estadísticas en Pandas son cruciales para entender, preparar y analizar datos, lo que a su vez influye en la toma de decisiones, la comprensión de patrones y tendencias, y la comunicación de resultados en el ámbito del análisis de datos."
   ]
  },
  {
   "cell_type": "markdown",
   "metadata": {},
   "source": [
    "Algunas de las operaciones estadísticas básicas con las que cuenta Pandas son:"
   ]
  },
  {
   "cell_type": "markdown",
   "metadata": {},
   "source": [
    "**La media (mean)**\n",
    "\n",
    "\n",
    "La media es el promedio de un conjunto de valores. En un DataFrame, df.mean() calcula la media de cada columna numérica. Es útil para entender el valor central de un conjunto de datos"
   ]
  },
  {
   "cell_type": "markdown",
   "metadata": {},
   "source": [
    "**La mediana (median)**\n",
    "\n",
    "\n",
    "La mediana es el valor que está en el centro de un conjunto de datos ordenado. Es menos sensible a valores extremos que la media. df.median() calcula la mediana de cada columna numérica.\n",
    "\n"
   ]
  },
  {
   "cell_type": "markdown",
   "metadata": {},
   "source": [
    "**El Mínimo y Máximo (min, max)**\n",
    "\n",
    "\n",
    "Estos métodos, df.min() y df.max(), encuentran el valor mínimo y máximo respectivamente en cada columna. Son útiles para identificar los límites de tus datos."
   ]
  },
  {
   "cell_type": "markdown",
   "metadata": {},
   "source": [
    "**Suma (sum)**\n",
    "\n",
    "\n",
    "df.sum() suma los valores de cada columna. Puede ser útil para obtener la suma total de valores en una columna o en todo el DataFrame.\n",
    "\n"
   ]
  },
  {
   "cell_type": "markdown",
   "metadata": {},
   "source": [
    "**Desviación estándar (std)**\n",
    "\n",
    "\n",
    "La desviación estándar es una medida de dispersión que indica qué tan dispersos están los valores en un conjunto de datos. df.std() calcula la desviación estándar de cada columna."
   ]
  },
  {
   "cell_type": "markdown",
   "metadata": {},
   "source": [
    "**Los Cuantiles (quantile)**\n",
    "\n",
    "\n",
    "Los cuantiles representan los valores que dividen un conjunto de datos ordenado en partes iguales. Por ejemplo, el cuantil 0.25 indica el valor por debajo del cual cae el 25% de los datos. df.quantile(0.25) te dará el valor del cuantil 25%."
   ]
  },
  {
   "cell_type": "code",
   "execution_count": null,
   "metadata": {},
   "outputs": [],
   "source": []
  }
 ],
 "metadata": {
  "language_info": {
   "name": "python"
  }
 },
 "nbformat": 4,
 "nbformat_minor": 2
}
