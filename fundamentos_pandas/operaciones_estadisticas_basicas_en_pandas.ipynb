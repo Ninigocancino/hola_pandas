{
 "cells": [
  {
   "cell_type": "markdown",
   "metadata": {},
   "source": [
    "# Introducción"
   ]
  },
  {
   "cell_type": "markdown",
   "metadata": {},
   "source": [
    "Las operaciones estadísticas en Pandas son cruciales para entender, preparar y analizar datos, lo que a su vez influye en la toma de decisiones, la comprensión de patrones y tendencias, y la comunicación de resultados en el ámbito del análisis de datos."
   ]
  },
  {
   "cell_type": "markdown",
   "metadata": {},
   "source": [
    "Algunas de las operaciones estadísticas básicas con las que cuenta Pandas son:"
   ]
  },
  {
   "cell_type": "markdown",
   "metadata": {},
   "source": [
    "**La media (mean)**\n",
    "\n",
    "\n",
    "La media es el promedio de un conjunto de valores. En un DataFrame, df.mean() calcula la media de cada columna numérica. Es útil para entender el valor central de un conjunto de datos"
   ]
  },
  {
   "cell_type": "markdown",
   "metadata": {},
   "source": [
    "**La mediana (median)**\n",
    "\n",
    "\n",
    "La mediana es el valor que está en el centro de un conjunto de datos ordenado. Es menos sensible a valores extremos que la media. df.median() calcula la mediana de cada columna numérica.\n",
    "\n"
   ]
  },
  {
   "cell_type": "markdown",
   "metadata": {},
   "source": [
    "**El Mínimo y Máximo (min, max)**\n",
    "\n",
    "\n",
    "Estos métodos, df.min() y df.max(), encuentran el valor mínimo y máximo respectivamente en cada columna. Son útiles para identificar los límites de tus datos."
   ]
  },
  {
   "cell_type": "markdown",
   "metadata": {},
   "source": [
    "**Suma (sum)**\n",
    "\n",
    "\n",
    "df.sum() suma los valores de cada columna. Puede ser útil para obtener la suma total de valores en una columna o en todo el DataFrame.\n",
    "\n"
   ]
  },
  {
   "cell_type": "markdown",
   "metadata": {},
   "source": [
    "**Desviación estándar (std)**\n",
    "\n",
    "\n",
    "La desviación estándar es una medida de dispersión que indica qué tan dispersos están los valores en un conjunto de datos. df.std() calcula la desviación estándar de cada columna."
   ]
  },
  {
   "cell_type": "markdown",
   "metadata": {},
   "source": [
    "**Los Cuantiles (quantile)**\n",
    "\n",
    "\n",
    "Los cuantiles representan los valores que dividen un conjunto de datos ordenado en partes iguales. Por ejemplo, el cuantil 0.25 indica el valor por debajo del cual cae el 25% de los datos. df.quantile(0.25) te dará el valor del cuantil 25%."
   ]
  },
  {
   "cell_type": "markdown",
   "metadata": {},
   "source": [
    "# Resumen estadístico "
   ]
  },
  {
   "cell_type": "markdown",
   "metadata": {},
   "source": [
    "En Pandas, el resumen estadístico es una manera rápida y efectiva de obtener una visión general de los datos. El método principal para esto es describe(), el cual proporciona estadísticas descriptivas para columnas numéricas en un DataFrame."
   ]
  },
  {
   "cell_type": "markdown",
   "metadata": {},
   "source": [
    "Un resumen estadístico es fundamental para comprender y describir las características de un conjunto de datos y es de especial utilidad para:"
   ]
  },
  {
   "cell_type": "markdown",
   "metadata": {},
   "source": [
    "**Comprender la Distribución de Datos** Pues proporciona una visión general de cómo están distribuidos los datos, incluyendo medidas como la media, la mediana, la desviación estándar y los percentiles. Estas estadísticas revelan la concentración, dispersión y forma general de la distribución de los datos."
   ]
  },
  {
   "cell_type": "markdown",
   "metadata": {},
   "source": [
    "**Identificar Valores Atípicos** ya que las medidas como el valor mínimo, máximo y los percentiles pueden ayudar a identificar valores extremos (outliers) que podrían ser errores o indicativos de patrones inusuales en los datos."
   ]
  },
  {
   "cell_type": "markdown",
   "metadata": {},
   "source": [
    "**Comparar Diferentes Conjuntos de Datos** Cuando se tiene más de un conjunto de datos, los resúmenes estadísticos permiten comparar y contrastar las características de cada conjunto. Esto es útil para identificar diferencias o similitudes entre ellos."
   ]
  },
  {
   "cell_type": "markdown",
   "metadata": {},
   "source": [
    "**Soporte en la Toma de Decisiones** Al comprender las propiedades estadísticas de los datos, se pueden tomar decisiones informadas. Por ejemplo, si la desviación estándar es alta, puede indicar una gran variabilidad en los datos, lo que podría ser crucial al tomar decisiones de riesgo en un contexto empresarial."
   ]
  },
  {
   "cell_type": "markdown",
   "metadata": {},
   "source": [
    "**Análisis Exploratorio de Datos** Puesto que permite revelar patrones, tendencias, asimetrías y otras características fundamentales del conjunto de datos."
   ]
  },
  {
   "cell_type": "markdown",
   "metadata": {},
   "source": [
    "**Comunicación y Presentación** ya que el resumen estadístico simplifica la presentación de datos complejos. La información estadística se puede comunicar más fácilmente a diferentes audiencias para explicar las propiedades esenciales del conjunto de datos."
   ]
  },
  {
   "cell_type": "markdown",
   "metadata": {},
   "source": [
    "## ¿Cómo realizar un resumen estadístico con Pandas?"
   ]
  },
  {
   "cell_type": "markdown",
   "metadata": {},
   "source": [
    "Supongamos que tienes un DataFrame con datos de ventas:"
   ]
  },
  {
   "cell_type": "code",
   "execution_count": 1,
   "metadata": {},
   "outputs": [],
   "source": [
    "import pandas as pd\n",
    "\n",
    "data = {\n",
    "    'Region': ['Norte', 'Norte', 'Sur', 'Sur', 'Este'],\n",
    "    'Salesperson': ['Alicia', 'Jose', 'Carlos', 'David', 'Eva'],\n",
    "    'Sales': [3000, 5000, 2000, 3500, 4000],\n",
    "    'Units_sold': [100, 150, 80, 120, 110]\n",
    "}\n",
    "\n",
    "df = pd.DataFrame(data)\n"
   ]
  },
  {
   "cell_type": "markdown",
   "metadata": {},
   "source": [
    "Para obtener un resumen estadístico de las columnas numéricas (en este caso, 'Sales' y 'Units_sold'), simplemente puedes hacer lo siguiente:\n",
    "\n"
   ]
  },
  {
   "cell_type": "code",
   "execution_count": 2,
   "metadata": {},
   "outputs": [
    {
     "name": "stdout",
     "output_type": "stream",
     "text": [
      "             Sales  Units_sold\n",
      "count     5.000000    5.000000\n",
      "mean   3500.000000  112.000000\n",
      "std    1118.033989   25.884358\n",
      "min    2000.000000   80.000000\n",
      "25%    3000.000000  100.000000\n",
      "50%    3500.000000  110.000000\n",
      "75%    4000.000000  120.000000\n",
      "max    5000.000000  150.000000\n"
     ]
    }
   ],
   "source": [
    "summary = df.describe()\n",
    "print(summary)\n"
   ]
  },
  {
   "cell_type": "markdown",
   "metadata": {},
   "source": [
    "El resultado muestra estadísticas comunes para cada columna numérica:\n",
    "\n",
    "Estas estadísticas incluyen:\n",
    "\n",
    "count: número de elementos no nulos en la columna.\n",
    "mean: promedio de los valores.\n",
    "std: desviación estándar.\n",
    "min: valor mínimo.\n",
    "25%, 50%, 75%: percentiles 25, 50 (mediana) y 75.\n",
    "max: valor máximo."
   ]
  },
  {
   "cell_type": "markdown",
   "metadata": {},
   "source": [
    "Esta función es útil para comprender rápidamente la distribución, dispersión y características básicas de tus datos numéricos. Además del describe(), puedes aplicar funciones específicas como mean(), sum(), std(), median(), entre otros, a columnas individuales para obtener estadísticas particulares."
   ]
  },
  {
   "cell_type": "markdown",
   "metadata": {},
   "source": [
    "## Ejericcio"
   ]
  },
  {
   "cell_type": "markdown",
   "metadata": {},
   "source": [
    "Supongamos que tienes un conjunto de datos que registra las ventas mensuales de diferentes sucursales de una empresa."
   ]
  },
  {
   "cell_type": "markdown",
   "metadata": {},
   "source": [
    "Utiliza el DataFrame df para realizar un resumen estadístico que muestre:\n",
    "\n",
    "La cantidad total de ventas por mes.\n",
    "La media, el mínimo y el máximo de las ventas por sucursal.\n",
    "El resumen estadístico general de las ventas.\n",
    "Puedes utilizar las operaciones groupby() y describe() para obtener estos resúmenes. Intenta combinar diferentes métodos para obtener la información solicitada."
   ]
  },
  {
   "cell_type": "markdown",
   "metadata": {},
   "source": [
    "### Respuesta"
   ]
  },
  {
   "cell_type": "code",
   "execution_count": 7,
   "metadata": {},
   "outputs": [
    {
     "data": {
      "text/html": [
       "<div>\n",
       "<style scoped>\n",
       "    .dataframe tbody tr th:only-of-type {\n",
       "        vertical-align: middle;\n",
       "    }\n",
       "\n",
       "    .dataframe tbody tr th {\n",
       "        vertical-align: top;\n",
       "    }\n",
       "\n",
       "    .dataframe thead th {\n",
       "        text-align: right;\n",
       "    }\n",
       "</style>\n",
       "<table border=\"1\" class=\"dataframe\">\n",
       "  <thead>\n",
       "    <tr style=\"text-align: right;\">\n",
       "      <th></th>\n",
       "      <th>Sucursal</th>\n",
       "      <th>Mes</th>\n",
       "      <th>Ventas</th>\n",
       "    </tr>\n",
       "  </thead>\n",
       "  <tbody>\n",
       "    <tr>\n",
       "      <th>0</th>\n",
       "      <td>A</td>\n",
       "      <td>Febrero</td>\n",
       "      <td>15021</td>\n",
       "    </tr>\n",
       "    <tr>\n",
       "      <th>1</th>\n",
       "      <td>D</td>\n",
       "      <td>Marzo</td>\n",
       "      <td>36773</td>\n",
       "    </tr>\n",
       "    <tr>\n",
       "      <th>2</th>\n",
       "      <td>B</td>\n",
       "      <td>Enero</td>\n",
       "      <td>43902</td>\n",
       "    </tr>\n",
       "  </tbody>\n",
       "</table>\n",
       "</div>"
      ],
      "text/plain": [
       "  Sucursal      Mes  Ventas\n",
       "0        A  Febrero   15021\n",
       "1        D    Marzo   36773\n",
       "2        B    Enero   43902"
      ]
     },
     "execution_count": 7,
     "metadata": {},
     "output_type": "execute_result"
    }
   ],
   "source": [
    "import pandas as pd\n",
    "import numpy as np\n",
    "\n",
    "# Generar datos aleatorios para simular las ventas\n",
    "np.random.seed(0)\n",
    "data = {\n",
    "    'Sucursal': np.random.choice(['A', 'B', 'C', 'D'], size=100),\n",
    "    'Mes': np.random.choice(['Enero', 'Febrero', 'Marzo'], size=100),\n",
    "    'Ventas': np.random.randint(10000, 50000, size=100)\n",
    "}\n",
    "\n",
    "df = pd.DataFrame(data)\n",
    "\n",
    "df.head(3)\n",
    "\n"
   ]
  },
  {
   "cell_type": "code",
   "execution_count": 10,
   "metadata": {},
   "outputs": [
    {
     "name": "stdout",
     "output_type": "stream",
     "text": [
      "Ventas por mes:\n",
      "Mes\n",
      "Enero      1080721\n",
      "Febrero     818546\n",
      "Marzo      1072031\n",
      "Name: Ventas, dtype: int32\n"
     ]
    }
   ],
   "source": [
    "# Cantidad total de ventas por mes\n",
    "ventas_por_mes = df.groupby('Mes')['Ventas'].sum()\n",
    "print(\"Ventas por mes:\")\n",
    "print(ventas_por_mes)\n",
    "print(\"\\n\")\n"
   ]
  },
  {
   "cell_type": "code",
   "execution_count": 11,
   "metadata": {},
   "outputs": [
    {
     "name": "stdout",
     "output_type": "stream",
     "text": [
      "Estadísticas por sucursal:\n",
      "                  mean    min    max\n",
      "Sucursal                            \n",
      "A         27403.840000  10469  49041\n",
      "B         33009.583333  15103  48429\n",
      "C         31846.263158  13886  48214\n",
      "D         27777.906250  11913  47420\n",
      "\n",
      "\n"
     ]
    }
   ],
   "source": [
    "# Estadísticas por sucursal\n",
    "estadisticas_sucursal = df.groupby('Sucursal')['Ventas'].agg(['mean', 'min', 'max'])\n",
    "print(\"Estadísticas por sucursal:\")\n",
    "print(estadisticas_sucursal)\n",
    "print(\"\\n\")"
   ]
  },
  {
   "cell_type": "code",
   "execution_count": 12,
   "metadata": {},
   "outputs": [
    {
     "name": "stdout",
     "output_type": "stream",
     "text": [
      "Resumen estadístico general de las ventas:\n",
      "count      100.000000\n",
      "mean     29712.980000\n",
      "std      11420.407409\n",
      "min      10469.000000\n",
      "25%      20978.250000\n",
      "50%      27461.000000\n",
      "75%      39015.250000\n",
      "max      49041.000000\n",
      "Name: Ventas, dtype: float64\n"
     ]
    }
   ],
   "source": [
    "# Resumen estadístico general de las ventas\n",
    "resumen_general = df['Ventas'].describe()\n",
    "print(\"Resumen estadístico general de las ventas:\")\n",
    "print(resumen_general)"
   ]
  },
  {
   "cell_type": "markdown",
   "metadata": {},
   "source": [
    "# Agregación de datos"
   ]
  },
  {
   "cell_type": "markdown",
   "metadata": {},
   "source": [
    "La agregación de datos en Pandas implica combinar datos a partir de múltiples filas o columnas para generar un resumen estadístico o una representación simplificada de los datos. Esto es común en el análisis de datos, especialmente cuando se trabaja con conjuntos de datos grandes y se necesita resumir la información."
   ]
  },
  {
   "cell_type": "markdown",
   "metadata": {},
   "source": [
    "La agregación de datos es fundamental en el análisis de datos por varias razones:"
   ]
  },
  {
   "cell_type": "markdown",
   "metadata": {},
   "source": [
    "**Resumen y comprensión** \n",
    "\n",
    "Permite resumir conjuntos de datos extensos en valores significativos, lo que facilita la comprensión de los datos. En lugar de lidiar con detalles individuales, las agregaciones brindan una visión general que ayuda a identificar tendencias, patrones y características clave."
   ]
  },
  {
   "cell_type": "markdown",
   "metadata": {},
   "source": [
    "**Reducción de la complejidad**\n",
    "\n",
    "En situaciones con grandes volúmenes de datos, la agregación reduce la complejidad al condensar la información. Esto facilita el análisis y la presentación de resultados de manera más clara y concisa."
   ]
  },
  {
   "cell_type": "markdown",
   "metadata": {},
   "source": [
    "**Análisis estadístico**\n",
    "\n",
    "Las agregaciones son esenciales para aplicar técnicas estadísticas y modelos a conjuntos de datos. Por ejemplo, calcular medias, sumas, desviaciones estándar, percentiles, etc., que son cruciales para comprender la distribución y las propiedades estadísticas de los datos."
   ]
  },
  {
   "cell_type": "markdown",
   "metadata": {},
   "source": [
    "**Toma de decisiones**\n",
    "\n",
    "Simplifica la información, lo que facilita la toma de decisiones informadas. Al resumir los datos de manera significativa, las agregaciones proporcionan una base sólida para decisiones estratégicas en negocios, investigación, finanzas y otros campos."
   ]
  },
  {
   "cell_type": "markdown",
   "metadata": {},
   "source": [
    "**Comparaciones y tendencias**\n",
    "\n",
    "Al resumir datos, se pueden comparar diferentes grupos, períodos de tiempo o segmentos, lo que permite identificar tendencias, disparidades y similitudes entre distintas entidades en los datos"
   ]
  },
  {
   "cell_type": "markdown",
   "metadata": {},
   "source": [
    "**Optimización del rendimiento**\n",
    "\n",
    "En el análisis de grandes conjuntos de datos, las agregaciones pueden ayudar a optimizar el rendimiento al reducir el tiempo de cálculo necesario para obtener resultados."
   ]
  },
  {
   "cell_type": "markdown",
   "metadata": {},
   "source": [
    "## ¿Cómo realizar una agregación de datos?"
   ]
  },
  {
   "cell_type": "markdown",
   "metadata": {},
   "source": [
    "Supongamos que tienes un DataFrame con información de ventas que incluye la región, el vendedor y el monto de las ventas:"
   ]
  },
  {
   "cell_type": "code",
   "execution_count": 1,
   "metadata": {},
   "outputs": [],
   "source": [
    "import pandas as pd\n",
    "\n",
    "data_n = {\n",
    "    'Region': ['Norte', 'Norte', 'Sur', 'Sur', 'Este'],\n",
    "    'Salesperson': ['Alicia', 'Jose', 'Carlos', 'David', 'Eva'],\n",
    "    'Sales': [3000, 5000, 2000, 3500, 4000]\n",
    "}\n",
    "\n",
    "df_n = pd.DataFrame(data_n)\n"
   ]
  },
  {
   "cell_type": "markdown",
   "metadata": {},
   "source": [
    "Una vez que contamos con los datos en un DataFrame, si quisieramos sumar las ventas por región, deberíamos usar groupby() junto con una función de agregación, como sum():"
   ]
  },
  {
   "cell_type": "code",
   "execution_count": 4,
   "metadata": {},
   "outputs": [
    {
     "name": "stdout",
     "output_type": "stream",
     "text": [
      "Region\n",
      "Este     4000\n",
      "Norte    8000\n",
      "Sur      5500\n",
      "Name: Sales, dtype: int64\n"
     ]
    }
   ],
   "source": [
    "# Agrupar por región y sumar las ventas\n",
    "\n",
    "ventas_x_region = df_n.groupby('Region')['Sales'].sum()\n",
    "print(ventas_x_region)\n"
   ]
  },
  {
   "cell_type": "markdown",
   "metadata": {},
   "source": [
    "El código anterior agrupa los datos por la columna 'Region' y luego suma las ventas correspondientes a cada región."
   ]
  },
  {
   "cell_type": "markdown",
   "metadata": {},
   "source": [
    "También podemos usar otras funciones de agregación como mean(), max(), min(), etc., dependiendo las necesidades particulares del analísis que estemos realizando. Además, podemos realizar agregaciones múltiples o incluso personalizadas utilizando el método agg() en combinación con groupby()."
   ]
  },
  {
   "cell_type": "markdown",
   "metadata": {},
   "source": [
    "Por ejemplo, podríamos necesitar calcular tanto la suma como el promedio de ventas por región:"
   ]
  },
  {
   "cell_type": "code",
   "execution_count": 5,
   "metadata": {},
   "outputs": [
    {
     "name": "stdout",
     "output_type": "stream",
     "text": [
      "         sum    mean\n",
      "Region              \n",
      "Este    4000  4000.0\n",
      "Norte   8000  4000.0\n",
      "Sur     5500  2750.0\n"
     ]
    }
   ],
   "source": [
    "# Agregar sum y mean\n",
    "sales_agg = df_n.groupby('Region')['Sales'].agg(['sum', 'mean'])\n",
    "print(sales_agg)\n"
   ]
  },
  {
   "cell_type": "markdown",
   "metadata": {},
   "source": [
    "## Ejercicio"
   ]
  },
  {
   "cell_type": "markdown",
   "metadata": {},
   "source": [
    "Supongamos que tienes un conjunto de datos que registra información sobre ventas de productos en una tienda."
   ]
  },
  {
   "cell_type": "markdown",
   "metadata": {},
   "source": [
    "Utiliza el DataFrame df_tienda para realizar agregaciones que muestren:\n",
    "\n",
    "El total de ventas por categoría.\n",
    "El promedio de cantidad vendida por producto.\n",
    "La suma de ventas y la cantidad total vendida por producto.\n",
    "Puedes utilizar el método groupby() junto con funciones de agregación como sum(), mean(), y agg() para obtener estos resúmenes."
   ]
  },
  {
   "cell_type": "markdown",
   "metadata": {},
   "source": [
    "### Respuesta"
   ]
  },
  {
   "cell_type": "code",
   "execution_count": 6,
   "metadata": {},
   "outputs": [],
   "source": [
    "import pandas as pd\n",
    "import numpy as np\n",
    "\n",
    "# Generar datos aleatorios para simular las ventas\n",
    "np.random.seed(0)\n",
    "data_tienda = {\n",
    "    'Producto': np.random.choice(['A', 'B', 'C'], size=100),\n",
    "    'Categoria': np.random.choice(['Electrónica', 'Ropa', 'Alimentos'], size=100),\n",
    "    'Ventas': np.random.randint(100, 1000, size=100),\n",
    "    'Cantidad': np.random.randint(1, 10, size=100)\n",
    "}\n",
    "\n",
    "df_tienda = pd.DataFrame(data_tienda)\n"
   ]
  },
  {
   "cell_type": "code",
   "execution_count": 8,
   "metadata": {},
   "outputs": [
    {
     "name": "stdout",
     "output_type": "stream",
     "text": [
      "Total de ventas por categoría:\n",
      "Categoria\n",
      "Alimentos      19510\n",
      "Electrónica    17836\n",
      "Ropa           17515\n",
      "Name: Ventas, dtype: int32\n",
      "\n",
      "\n"
     ]
    }
   ],
   "source": [
    "# Total de ventas por categoría\n",
    "ventas_por_categoria = df_tienda.groupby('Categoria')['Ventas'].sum()\n",
    "print(\"Total de ventas por categoría:\")\n",
    "print(ventas_por_categoria)\n",
    "print(\"\\n\")"
   ]
  },
  {
   "cell_type": "code",
   "execution_count": 9,
   "metadata": {},
   "outputs": [
    {
     "name": "stdout",
     "output_type": "stream",
     "text": [
      "Promedio de cantidad vendida por producto:\n",
      "Producto\n",
      "A    5.589744\n",
      "B    5.852941\n",
      "C    4.296296\n",
      "Name: Cantidad, dtype: float64\n",
      "\n",
      "\n"
     ]
    }
   ],
   "source": [
    "# Promedio de cantidad vendida por producto\n",
    "promedio_cantidad_por_producto = df_tienda.groupby('Producto')['Cantidad'].mean()\n",
    "print(\"Promedio de cantidad vendida por producto:\")\n",
    "print(promedio_cantidad_por_producto)\n",
    "print(\"\\n\")"
   ]
  },
  {
   "cell_type": "code",
   "execution_count": 10,
   "metadata": {},
   "outputs": [
    {
     "name": "stdout",
     "output_type": "stream",
     "text": [
      "Suma de ventas y cantidad total vendida por producto:\n",
      "          Ventas  Cantidad\n",
      "Producto                  \n",
      "A          22287       218\n",
      "B          18633       199\n",
      "C          13941       116\n"
     ]
    }
   ],
   "source": [
    "# Suma de ventas y cantidad total vendida por producto\n",
    "agregacion_por_producto = df_tienda.groupby('Producto').agg({'Ventas': 'sum', 'Cantidad': 'sum'})\n",
    "print(\"Suma de ventas y cantidad total vendida por producto:\")\n",
    "print(agregacion_por_producto)"
   ]
  }
 ],
 "metadata": {
  "kernelspec": {
   "display_name": "venv_hola_pandas",
   "language": "python",
   "name": "python3"
  },
  "language_info": {
   "codemirror_mode": {
    "name": "ipython",
    "version": 3
   },
   "file_extension": ".py",
   "mimetype": "text/x-python",
   "name": "python",
   "nbconvert_exporter": "python",
   "pygments_lexer": "ipython3",
   "version": "3.7.3"
  }
 },
 "nbformat": 4,
 "nbformat_minor": 2
}
