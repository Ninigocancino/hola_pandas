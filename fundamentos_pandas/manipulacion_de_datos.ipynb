{
 "cells": [
  {
   "cell_type": "markdown",
   "metadata": {},
   "source": [
    "### *Necesarios*"
   ]
  },
  {
   "cell_type": "code",
   "execution_count": 1,
   "metadata": {},
   "outputs": [],
   "source": [
    "import pandas as pd "
   ]
  },
  {
   "cell_type": "markdown",
   "metadata": {},
   "source": [
    "# **INTRODUCCIÓN A LA MANIPULACIÓN DE DATOS**"
   ]
  },
  {
   "cell_type": "markdown",
   "metadata": {},
   "source": [
    "En ciencia de datos, la manipulación de datos hace referencia al proceso de transformar, limpiar y preparar los datos para su análisis posterior. Es una etapa fundamental en el ciclo de vida de un proyecto de ciencia de datos y puede representar una parte significativa del trabajo de un científico de datos. La manipulación de datos se realiza con el objetivo de convertir datos crudos o desorganizados en un formato adecuado y útil para la toma de decisiones, el modelado, la visualización y otros análisis.\n",
    "\n",
    "Las tareas más comunes erelacionadas con la manipulación de datos en ciencia de datos suelen ser:\n",
    "\n",
    "*   La limpieza de los datos\n",
    "*   La transformación de datos\n",
    "*   La selección y flitrado de datos\n",
    "*   La agrgación y resumen de datos\n",
    "*   La unión y combinación de datos\n",
    "*   El manejo de valores nulos\n",
    "*   Y la generación de nuevas caracteristicas\n",
    "\n"
   ]
  },
  {
   "cell_type": "markdown",
   "metadata": {},
   "source": [
    "La manipulación de datos es un proceso iterativo y puede requerir una combinación de herramientas y bibliotecas, como Pandas en Python, SQL para bases de datos, y otras bibliotecas específicas para tareas de limpieza y transformación de datos. La calidad de los datos y la eficiencia en su manipulación son factores críticos para el éxito de un proyecto de ciencia de datos, ya que los resultados y las conclusiones se basan en gran medida en los datos subyacentes."
   ]
  },
  {
   "cell_type": "markdown",
   "metadata": {},
   "source": [
    "Pandas es una poderosa libreria ampliamente usada en el mundo de la ciencia de datos ya que cuenta con multiples caracteristicas de gran utilidad en el contexto de la ciencia de datos como proporcionar estructuras de datos flexibles y eficientes, como DataFrames y Series, que permiten la manipulación y análisis de datos de manera más eficaz. Estas estructuras permiten cargar, limpiar, transformar y analizar datos de manera intuitiva.\n",
    "\n",
    "En este notebook exploraremos la forma en que podemos usar Pandas para filtrar datos, añadir y eleminar columnas y modificar valores."
   ]
  },
  {
   "cell_type": "markdown",
   "metadata": {},
   "source": [
    "# Filtrar datos "
   ]
  },
  {
   "cell_type": "markdown",
   "metadata": {},
   "source": [
    "Filtrar datos en Pandas es una operación esencial que te permite seleccionar un subconjunto de filas o columnas de un DataFrame en función de condiciones específicas. Esto es necesario en varias situaciones durante el análisis de datos por varias razones, por ejemplo:"
   ]
  },
  {
   "cell_type": "markdown",
   "metadata": {},
   "source": [
    "**Enfocarse en los datos que de verdad importan**\n",
    "\n",
    "A menudo, tus conjuntos de datos pueden contener una gran cantidad de información que no es relevante para tu análisis actual. Filtrar datos te permite centrarte en las partes de los datos que son importantes para tu pregunta o análisis."
   ]
  },
  {
   "cell_type": "markdown",
   "metadata": {},
   "source": [
    "**Limpiar tu conjunto de datos**\n",
    "\n",
    "En ocasiones, es necesario filtrar datos para eliminar observaciones con valores nulos o incorrectos que pueden afectar tus análisis y resultados."
   ]
  },
  {
   "cell_type": "markdown",
   "metadata": {},
   "source": [
    "**Segmentar tus datos**\n",
    "\n",
    "Puedes querer dividir tus datos en grupos específicos para compararlos o analizarlos por separado. Filtrar te permite crear subconjuntos de datos para cada grupo y tener solo aquellas variables cuya relación entre si te ayuden a responder preguntas importantes para tu análisis."
   ]
  },
  {
   "cell_type": "markdown",
   "metadata": {},
   "source": [
    "**Extraer información especifica**\n",
    "Puedes buscar información específica en tus datos utilizando filtros. Por ejemplo, buscar todos los clientes que cumplan ciertos criterios o encontrar registros con características específicas."
   ]
  },
  {
   "cell_type": "markdown",
   "metadata": {},
   "source": [
    "## ¿Cómo filtrar datos en Pandas paso a paso?"
   ]
  },
  {
   "cell_type": "markdown",
   "metadata": {},
   "source": [
    "Supongamos que tenemos un DataFrame llamado df con datos de empleados y queremos filtrar empleados que cumplan con ciertas condiciones, como empleados que ganan más de $50,000 al año y tienen más de 30 años."
   ]
  },
  {
   "cell_type": "code",
   "execution_count": null,
   "metadata": {},
   "outputs": [],
   "source": [
    "#NO EJECUTAR EL CÓDIGO\n",
    "\n",
    "#import pandas as pd  #Lo primero para trabajar con Pandas es realizar la importación de la libreria a nuestro notebook o nuetro proyecto python (según sea el caso), en este caso hemos comentado la línea correspondiente a la importación ya que está se realiza en la parte superior del notebook\n",
    "\n",
    "# Ahora bien. Supongamos que ya tenemos un DataFrame df con datos de empleados\n",
    "\n",
    "# Definir una condición de filtro\n",
    "condicion = (df['Salario'] > 50000) & (df['Edad'] > 30)\n",
    "\n",
    "\"\"\"\n",
    "\n",
    "Donde: \n",
    "condicion    --Es la variable que almacenará el filtro--\n",
    "df           --Hace referencia al nombre del data frame de donde extraeremos la información--\n",
    "['Salario']  --Es el nombre de una de las columnas que contiene datos relevantes para nuestra consulta--\n",
    "> 50000      --Es la condición que nos ayuda a selecionar datos de la columna 'Salario'--\n",
    "&            --Es el operador lógico que nos ayuda a unir las dos condiciones del filtro--\n",
    "['Edad']     --Es el nombre de la otra columna que contiene datos relevantes para nuestra consulta--\n",
    "> 30         --Es la segunda condición que nos ayuda a seleccionar datos--\n",
    "\n",
    "\n",
    "\n",
    "Podemos leer el filtro así:\n",
    "\n",
    "Primera parte:\n",
    "\n",
    "  condicion =\n",
    "\n",
    "    En la variable condicion guarda como valor, el resultado de todo lo que se esciba despues del signo de igualdad (=)\n",
    "\n",
    "\n",
    "\n",
    "Segunda parte:\n",
    "\n",
    "  (df['Salario'] > 50000)\n",
    "\n",
    "    (df['Salario']\n",
    "      Del data frame df ve a la columna 'Salario',...\n",
    "\n",
    "    > 50000)\n",
    "      trae los valores que sean mayores a 50000...\n",
    "\n",
    "\n",
    "\n",
    "Tercera parte: \n",
    "\n",
    "  &\n",
    "    y además de la condición anterior(donde solo nos trae las series donde los valores de la columna  'Salario' son mayores a 50000)...\n",
    "\n",
    "\n",
    "\n",
    "Cuarta parte:\n",
    "\n",
    "  (df['Edad'] > 30)\n",
    "\n",
    "    (df['Edad'] \n",
    "      del data frame df ve a la columna 'Edad'...\n",
    "\n",
    "    > 30)\n",
    "      trae los valores que sean mayores a 30\n",
    "\n",
    " \n",
    "  \n",
    "El filtro queda asignado a la variable 'condicion' \n",
    "\"\"\"\n",
    "\n",
    "# Aplicar el filtro y crear un nuevo DataFrame con las filas que cumplan la condición\n",
    "empleados_filtrados = df[condicion]\n"
   ]
  },
  {
   "cell_type": "markdown",
   "metadata": {},
   "source": [
    "## Ejercicio 1"
   ]
  },
  {
   "cell_type": "markdown",
   "metadata": {},
   "source": [
    "Crea un DataFrame con datos de ventas, donde algunas filas tienen valores nulos en la columna Ventas. Filtra las filas que no tienen valores nulos en la columna Ventas."
   ]
  },
  {
   "cell_type": "markdown",
   "metadata": {},
   "source": [
    "### Respuesta"
   ]
  },
  {
   "cell_type": "code",
   "execution_count": 34,
   "metadata": {},
   "outputs": [],
   "source": [
    "ventas_2023 = {\n",
    "    \"Producto\": [\"cartera\",\"zapatos_t6\",\"zapatos_t7\",\"zapatos_t8\",\"zapatos_t9\",\"camisetas_s\",\"camisetas_m\",\"camisetas_xl\",\"shorts_xl\",\"short_m\", \"shorts_s\"],\n",
    "    \"unidades_vendidas\": [20,50,60,90,None,120,45,24,None,None,78],\n",
    "    \"disponible_stock\": [True,True, True,False,None, False,True,None,False,None, False]\n",
    "}"
   ]
  },
  {
   "cell_type": "code",
   "execution_count": 35,
   "metadata": {},
   "outputs": [
    {
     "data": {
      "text/html": [
       "<div>\n",
       "<style scoped>\n",
       "    .dataframe tbody tr th:only-of-type {\n",
       "        vertical-align: middle;\n",
       "    }\n",
       "\n",
       "    .dataframe tbody tr th {\n",
       "        vertical-align: top;\n",
       "    }\n",
       "\n",
       "    .dataframe thead th {\n",
       "        text-align: right;\n",
       "    }\n",
       "</style>\n",
       "<table border=\"1\" class=\"dataframe\">\n",
       "  <thead>\n",
       "    <tr style=\"text-align: right;\">\n",
       "      <th></th>\n",
       "      <th>Producto</th>\n",
       "      <th>unidades_vendidas</th>\n",
       "      <th>disponible_stock</th>\n",
       "    </tr>\n",
       "  </thead>\n",
       "  <tbody>\n",
       "    <tr>\n",
       "      <th>0</th>\n",
       "      <td>cartera</td>\n",
       "      <td>20.0</td>\n",
       "      <td>True</td>\n",
       "    </tr>\n",
       "    <tr>\n",
       "      <th>1</th>\n",
       "      <td>zapatos_t6</td>\n",
       "      <td>50.0</td>\n",
       "      <td>True</td>\n",
       "    </tr>\n",
       "    <tr>\n",
       "      <th>2</th>\n",
       "      <td>zapatos_t7</td>\n",
       "      <td>60.0</td>\n",
       "      <td>True</td>\n",
       "    </tr>\n",
       "    <tr>\n",
       "      <th>3</th>\n",
       "      <td>zapatos_t8</td>\n",
       "      <td>90.0</td>\n",
       "      <td>False</td>\n",
       "    </tr>\n",
       "    <tr>\n",
       "      <th>4</th>\n",
       "      <td>zapatos_t9</td>\n",
       "      <td>NaN</td>\n",
       "      <td>None</td>\n",
       "    </tr>\n",
       "    <tr>\n",
       "      <th>5</th>\n",
       "      <td>camisetas_s</td>\n",
       "      <td>120.0</td>\n",
       "      <td>False</td>\n",
       "    </tr>\n",
       "    <tr>\n",
       "      <th>6</th>\n",
       "      <td>camisetas_m</td>\n",
       "      <td>45.0</td>\n",
       "      <td>True</td>\n",
       "    </tr>\n",
       "    <tr>\n",
       "      <th>7</th>\n",
       "      <td>camisetas_xl</td>\n",
       "      <td>24.0</td>\n",
       "      <td>None</td>\n",
       "    </tr>\n",
       "    <tr>\n",
       "      <th>8</th>\n",
       "      <td>shorts_xl</td>\n",
       "      <td>NaN</td>\n",
       "      <td>False</td>\n",
       "    </tr>\n",
       "    <tr>\n",
       "      <th>9</th>\n",
       "      <td>short_m</td>\n",
       "      <td>NaN</td>\n",
       "      <td>None</td>\n",
       "    </tr>\n",
       "    <tr>\n",
       "      <th>10</th>\n",
       "      <td>shorts_s</td>\n",
       "      <td>78.0</td>\n",
       "      <td>False</td>\n",
       "    </tr>\n",
       "  </tbody>\n",
       "</table>\n",
       "</div>"
      ],
      "text/plain": [
       "        Producto  unidades_vendidas disponible_stock\n",
       "0        cartera               20.0             True\n",
       "1     zapatos_t6               50.0             True\n",
       "2     zapatos_t7               60.0             True\n",
       "3     zapatos_t8               90.0            False\n",
       "4     zapatos_t9                NaN             None\n",
       "5    camisetas_s              120.0            False\n",
       "6    camisetas_m               45.0             True\n",
       "7   camisetas_xl               24.0             None\n",
       "8      shorts_xl                NaN            False\n",
       "9        short_m                NaN             None\n",
       "10      shorts_s               78.0            False"
      ]
     },
     "execution_count": 35,
     "metadata": {},
     "output_type": "execute_result"
    }
   ],
   "source": [
    "ventas_df = pd.DataFrame(ventas_2023)\n",
    "ventas_df"
   ]
  },
  {
   "cell_type": "code",
   "execution_count": 48,
   "metadata": {},
   "outputs": [
    {
     "data": {
      "text/html": [
       "<div>\n",
       "<style scoped>\n",
       "    .dataframe tbody tr th:only-of-type {\n",
       "        vertical-align: middle;\n",
       "    }\n",
       "\n",
       "    .dataframe tbody tr th {\n",
       "        vertical-align: top;\n",
       "    }\n",
       "\n",
       "    .dataframe thead th {\n",
       "        text-align: right;\n",
       "    }\n",
       "</style>\n",
       "<table border=\"1\" class=\"dataframe\">\n",
       "  <thead>\n",
       "    <tr style=\"text-align: right;\">\n",
       "      <th></th>\n",
       "      <th>Producto</th>\n",
       "      <th>unidades_vendidas</th>\n",
       "      <th>disponible_stock</th>\n",
       "    </tr>\n",
       "  </thead>\n",
       "  <tbody>\n",
       "    <tr>\n",
       "      <th>0</th>\n",
       "      <td>cartera</td>\n",
       "      <td>20.0</td>\n",
       "      <td>True</td>\n",
       "    </tr>\n",
       "    <tr>\n",
       "      <th>1</th>\n",
       "      <td>zapatos_t6</td>\n",
       "      <td>50.0</td>\n",
       "      <td>True</td>\n",
       "    </tr>\n",
       "    <tr>\n",
       "      <th>2</th>\n",
       "      <td>zapatos_t7</td>\n",
       "      <td>60.0</td>\n",
       "      <td>True</td>\n",
       "    </tr>\n",
       "    <tr>\n",
       "      <th>3</th>\n",
       "      <td>zapatos_t8</td>\n",
       "      <td>90.0</td>\n",
       "      <td>False</td>\n",
       "    </tr>\n",
       "    <tr>\n",
       "      <th>5</th>\n",
       "      <td>camisetas_s</td>\n",
       "      <td>120.0</td>\n",
       "      <td>False</td>\n",
       "    </tr>\n",
       "    <tr>\n",
       "      <th>6</th>\n",
       "      <td>camisetas_m</td>\n",
       "      <td>45.0</td>\n",
       "      <td>True</td>\n",
       "    </tr>\n",
       "    <tr>\n",
       "      <th>10</th>\n",
       "      <td>shorts_s</td>\n",
       "      <td>78.0</td>\n",
       "      <td>False</td>\n",
       "    </tr>\n",
       "  </tbody>\n",
       "</table>\n",
       "</div>"
      ],
      "text/plain": [
       "       Producto  unidades_vendidas disponible_stock\n",
       "0       cartera               20.0             True\n",
       "1    zapatos_t6               50.0             True\n",
       "2    zapatos_t7               60.0             True\n",
       "3    zapatos_t8               90.0            False\n",
       "5   camisetas_s              120.0            False\n",
       "6   camisetas_m               45.0             True\n",
       "10     shorts_s               78.0            False"
      ]
     },
     "execution_count": 48,
     "metadata": {},
     "output_type": "execute_result"
    }
   ],
   "source": [
    "data_clean = ventas_df.dropna(subset=['unidades_vendidas',\"disponible_stock\"])\n",
    "data_clean"
   ]
  },
  {
   "cell_type": "markdown",
   "metadata": {},
   "source": [
    "## Ejercicio 2"
   ]
  },
  {
   "cell_type": "markdown",
   "metadata": {},
   "source": [
    "Crea un DataFrame con datos de estudiantes que incluyen las columnas Nombre, Edad y Género. Luego, filtra los estudiantes que son de género femenino."
   ]
  },
  {
   "cell_type": "markdown",
   "metadata": {},
   "source": [
    "### Respuesta"
   ]
  },
  {
   "cell_type": "code",
   "execution_count": 30,
   "metadata": {},
   "outputs": [],
   "source": [
    "estudiantes = {\n",
    "    \"Nombre\": [\"Goku\", \"Gohan\", \"Bulma\", \"Chaos\", \"Milk\", \"Krillim\"],\n",
    "    \"Edad\": [50,35,60,52,50,52],\n",
    "    \"Genero\": [\"m\",\"m\",\"f\",\"m\",\"f\",\"m\"]\n",
    "}"
   ]
  },
  {
   "cell_type": "code",
   "execution_count": 31,
   "metadata": {},
   "outputs": [
    {
     "data": {
      "text/html": [
       "<div>\n",
       "<style scoped>\n",
       "    .dataframe tbody tr th:only-of-type {\n",
       "        vertical-align: middle;\n",
       "    }\n",
       "\n",
       "    .dataframe tbody tr th {\n",
       "        vertical-align: top;\n",
       "    }\n",
       "\n",
       "    .dataframe thead th {\n",
       "        text-align: right;\n",
       "    }\n",
       "</style>\n",
       "<table border=\"1\" class=\"dataframe\">\n",
       "  <thead>\n",
       "    <tr style=\"text-align: right;\">\n",
       "      <th></th>\n",
       "      <th>Nombre</th>\n",
       "      <th>Edad</th>\n",
       "      <th>Genero</th>\n",
       "    </tr>\n",
       "  </thead>\n",
       "  <tbody>\n",
       "    <tr>\n",
       "      <th>0</th>\n",
       "      <td>Goku</td>\n",
       "      <td>50</td>\n",
       "      <td>m</td>\n",
       "    </tr>\n",
       "    <tr>\n",
       "      <th>1</th>\n",
       "      <td>Gohan</td>\n",
       "      <td>35</td>\n",
       "      <td>m</td>\n",
       "    </tr>\n",
       "    <tr>\n",
       "      <th>2</th>\n",
       "      <td>Bulma</td>\n",
       "      <td>60</td>\n",
       "      <td>f</td>\n",
       "    </tr>\n",
       "    <tr>\n",
       "      <th>3</th>\n",
       "      <td>Chaos</td>\n",
       "      <td>52</td>\n",
       "      <td>m</td>\n",
       "    </tr>\n",
       "    <tr>\n",
       "      <th>4</th>\n",
       "      <td>Milk</td>\n",
       "      <td>50</td>\n",
       "      <td>f</td>\n",
       "    </tr>\n",
       "    <tr>\n",
       "      <th>5</th>\n",
       "      <td>Krillim</td>\n",
       "      <td>52</td>\n",
       "      <td>m</td>\n",
       "    </tr>\n",
       "  </tbody>\n",
       "</table>\n",
       "</div>"
      ],
      "text/plain": [
       "    Nombre  Edad Genero\n",
       "0     Goku    50      m\n",
       "1    Gohan    35      m\n",
       "2    Bulma    60      f\n",
       "3    Chaos    52      m\n",
       "4     Milk    50      f\n",
       "5  Krillim    52      m"
      ]
     },
     "execution_count": 31,
     "metadata": {},
     "output_type": "execute_result"
    }
   ],
   "source": [
    "df_students = pd.DataFrame(estudiantes)\n",
    "df_students"
   ]
  },
  {
   "cell_type": "markdown",
   "metadata": {},
   "source": [
    "## Ejercicio 3"
   ]
  },
  {
   "cell_type": "markdown",
   "metadata": {},
   "source": [
    "Supongamos que tienes un DataFrame con datos de ventas que incluye las columnas Producto, Ventas y Fecha. Crea un DataFrame y filtra las ventas de productos 'A' que fueron mayores de $1000 y ocurrieron en el año 2023."
   ]
  },
  {
   "cell_type": "markdown",
   "metadata": {},
   "source": [
    "### Respuesta"
   ]
  },
  {
   "cell_type": "code",
   "execution_count": 51,
   "metadata": {},
   "outputs": [],
   "source": [
    "sales = {\n",
    "    \"product\": [\"camisas\", \"pantalones\", \"sombreros\",\"suaters\", \"libros\", \"mesas\", \"sillas\", \"blusas\"],\n",
    "    \"sales_m\": [350, 2500, 120,450,500,650,100,900],\n",
    "    \"date\": [\"2022-01-12\", \"2023-03-03\",\"2021-01-04\", \"2022-05-06\", \"2023-08-08\", \"2021-09-09\", \"2020-01-06\", \"2022-04-04\"]\n",
    "}"
   ]
  },
  {
   "cell_type": "code",
   "execution_count": 52,
   "metadata": {},
   "outputs": [
    {
     "data": {
      "text/html": [
       "<div>\n",
       "<style scoped>\n",
       "    .dataframe tbody tr th:only-of-type {\n",
       "        vertical-align: middle;\n",
       "    }\n",
       "\n",
       "    .dataframe tbody tr th {\n",
       "        vertical-align: top;\n",
       "    }\n",
       "\n",
       "    .dataframe thead th {\n",
       "        text-align: right;\n",
       "    }\n",
       "</style>\n",
       "<table border=\"1\" class=\"dataframe\">\n",
       "  <thead>\n",
       "    <tr style=\"text-align: right;\">\n",
       "      <th></th>\n",
       "      <th>product</th>\n",
       "      <th>sales_m</th>\n",
       "      <th>date</th>\n",
       "    </tr>\n",
       "  </thead>\n",
       "  <tbody>\n",
       "    <tr>\n",
       "      <th>0</th>\n",
       "      <td>camisas</td>\n",
       "      <td>350</td>\n",
       "      <td>2022-01-12</td>\n",
       "    </tr>\n",
       "    <tr>\n",
       "      <th>1</th>\n",
       "      <td>pantalones</td>\n",
       "      <td>2500</td>\n",
       "      <td>2023-03-03</td>\n",
       "    </tr>\n",
       "    <tr>\n",
       "      <th>2</th>\n",
       "      <td>sombreros</td>\n",
       "      <td>120</td>\n",
       "      <td>2021-01-04</td>\n",
       "    </tr>\n",
       "    <tr>\n",
       "      <th>3</th>\n",
       "      <td>suaters</td>\n",
       "      <td>450</td>\n",
       "      <td>2022-05-06</td>\n",
       "    </tr>\n",
       "    <tr>\n",
       "      <th>4</th>\n",
       "      <td>libros</td>\n",
       "      <td>500</td>\n",
       "      <td>2023-08-08</td>\n",
       "    </tr>\n",
       "    <tr>\n",
       "      <th>5</th>\n",
       "      <td>mesas</td>\n",
       "      <td>650</td>\n",
       "      <td>2021-09-09</td>\n",
       "    </tr>\n",
       "    <tr>\n",
       "      <th>6</th>\n",
       "      <td>sillas</td>\n",
       "      <td>100</td>\n",
       "      <td>2020-01-06</td>\n",
       "    </tr>\n",
       "    <tr>\n",
       "      <th>7</th>\n",
       "      <td>blusas</td>\n",
       "      <td>900</td>\n",
       "      <td>2022-04-04</td>\n",
       "    </tr>\n",
       "  </tbody>\n",
       "</table>\n",
       "</div>"
      ],
      "text/plain": [
       "      product  sales_m        date\n",
       "0     camisas      350  2022-01-12\n",
       "1  pantalones     2500  2023-03-03\n",
       "2   sombreros      120  2021-01-04\n",
       "3     suaters      450  2022-05-06\n",
       "4      libros      500  2023-08-08\n",
       "5       mesas      650  2021-09-09\n",
       "6      sillas      100  2020-01-06\n",
       "7      blusas      900  2022-04-04"
      ]
     },
     "execution_count": 52,
     "metadata": {},
     "output_type": "execute_result"
    }
   ],
   "source": [
    "df_sales = pd.DataFrame(sales)\n",
    "df_sales"
   ]
  },
  {
   "cell_type": "code",
   "execution_count": 54,
   "metadata": {},
   "outputs": [
    {
     "data": {
      "text/html": [
       "<div>\n",
       "<style scoped>\n",
       "    .dataframe tbody tr th:only-of-type {\n",
       "        vertical-align: middle;\n",
       "    }\n",
       "\n",
       "    .dataframe tbody tr th {\n",
       "        vertical-align: top;\n",
       "    }\n",
       "\n",
       "    .dataframe thead th {\n",
       "        text-align: right;\n",
       "    }\n",
       "</style>\n",
       "<table border=\"1\" class=\"dataframe\">\n",
       "  <thead>\n",
       "    <tr style=\"text-align: right;\">\n",
       "      <th></th>\n",
       "      <th>product</th>\n",
       "      <th>sales_m</th>\n",
       "      <th>date</th>\n",
       "    </tr>\n",
       "  </thead>\n",
       "  <tbody>\n",
       "    <tr>\n",
       "      <th>1</th>\n",
       "      <td>pantalones</td>\n",
       "      <td>2500</td>\n",
       "      <td>2023-03-03</td>\n",
       "    </tr>\n",
       "  </tbody>\n",
       "</table>\n",
       "</div>"
      ],
      "text/plain": [
       "      product  sales_m        date\n",
       "1  pantalones     2500  2023-03-03"
      ]
     },
     "execution_count": 54,
     "metadata": {},
     "output_type": "execute_result"
    }
   ],
   "source": [
    "v_2023 = (df_sales['sales_m'] > 1000) & (df_sales['date'].str.startswith(\"2023\"))\n",
    "v_2023 = df_sales[v_2023]\n",
    "v_2023"
   ]
  },
  {
   "cell_type": "markdown",
   "metadata": {},
   "source": [
    "## Añadir y eliminar columnas"
   ]
  },
  {
   "cell_type": "markdown",
   "metadata": {},
   "source": [
    "### Respuesta"
   ]
  },
  {
   "cell_type": "markdown",
   "metadata": {},
   "source": [
    "## Modificar valores"
   ]
  },
  {
   "cell_type": "markdown",
   "metadata": {},
   "source": [
    "### Respuesta"
   ]
  }
 ],
 "metadata": {
  "kernelspec": {
   "display_name": "venv_hola_pandas",
   "language": "python",
   "name": "python3"
  },
  "language_info": {
   "codemirror_mode": {
    "name": "ipython",
    "version": 3
   },
   "file_extension": ".py",
   "mimetype": "text/x-python",
   "name": "python",
   "nbconvert_exporter": "python",
   "pygments_lexer": "ipython3",
   "version": "3.7.3"
  }
 },
 "nbformat": 4,
 "nbformat_minor": 2
}
