{
 "cells": [
  {
   "cell_type": "markdown",
   "metadata": {},
   "source": [
    "### *Necesarios*"
   ]
  },
  {
   "cell_type": "code",
   "execution_count": 2,
   "metadata": {},
   "outputs": [],
   "source": [
    "import pandas as pd "
   ]
  },
  {
   "cell_type": "markdown",
   "metadata": {},
   "source": [
    "# **INTRODUCCIÓN A LA MANIPULACIÓN DE DATOS**"
   ]
  },
  {
   "cell_type": "markdown",
   "metadata": {},
   "source": [
    "En ciencia de datos, la manipulación de datos hace referencia al proceso de transformar, limpiar y preparar los datos para su análisis posterior. Es una etapa fundamental en el ciclo de vida de un proyecto de ciencia de datos y puede representar una parte significativa del trabajo de un científico de datos. La manipulación de datos se realiza con el objetivo de convertir datos crudos o desorganizados en un formato adecuado y útil para la toma de decisiones, el modelado, la visualización y otros análisis.\n",
    "\n",
    "Las tareas más comunes erelacionadas con la manipulación de datos en ciencia de datos suelen ser:\n",
    "\n",
    "*   La limpieza de los datos\n",
    "*   La transformación de datos\n",
    "*   La selección y flitrado de datos\n",
    "*   La agrgación y resumen de datos\n",
    "*   La unión y combinación de datos\n",
    "*   El manejo de valores nulos\n",
    "*   Y la generación de nuevas caracteristicas\n",
    "\n"
   ]
  },
  {
   "cell_type": "markdown",
   "metadata": {},
   "source": [
    "La manipulación de datos es un proceso iterativo y puede requerir una combinación de herramientas y bibliotecas, como Pandas en Python, SQL para bases de datos, y otras bibliotecas específicas para tareas de limpieza y transformación de datos. La calidad de los datos y la eficiencia en su manipulación son factores críticos para el éxito de un proyecto de ciencia de datos, ya que los resultados y las conclusiones se basan en gran medida en los datos subyacentes."
   ]
  },
  {
   "cell_type": "markdown",
   "metadata": {},
   "source": [
    "Pandas es una poderosa libreria ampliamente usada en el mundo de la ciencia de datos ya que cuenta con multiples caracteristicas de gran utilidad en el contexto de la ciencia de datos como proporcionar estructuras de datos flexibles y eficientes, como DataFrames y Series, que permiten la manipulación y análisis de datos de manera más eficaz. Estas estructuras permiten cargar, limpiar, transformar y analizar datos de manera intuitiva.\n",
    "\n",
    "En este notebook exploraremos la forma en que podemos usar Pandas para filtrar datos, añadir y eleminar columnas y modificar valores."
   ]
  },
  {
   "cell_type": "markdown",
   "metadata": {},
   "source": [
    "# Filtrar datos "
   ]
  },
  {
   "cell_type": "markdown",
   "metadata": {},
   "source": [
    "Filtrar datos en Pandas es una operación esencial que te permite seleccionar un subconjunto de filas o columnas de un DataFrame en función de condiciones específicas. Esto es necesario en varias situaciones durante el análisis de datos por varias razones, por ejemplo:"
   ]
  },
  {
   "cell_type": "markdown",
   "metadata": {},
   "source": [
    "**Enfocarse en los datos que de verdad importan**\n",
    "\n",
    "A menudo, tus conjuntos de datos pueden contener una gran cantidad de información que no es relevante para tu análisis actual. Filtrar datos te permite centrarte en las partes de los datos que son importantes para tu pregunta o análisis."
   ]
  },
  {
   "cell_type": "markdown",
   "metadata": {},
   "source": [
    "**Limpiar tu conjunto de datos**\n",
    "\n",
    "En ocasiones, es necesario filtrar datos para eliminar observaciones con valores nulos o incorrectos que pueden afectar tus análisis y resultados."
   ]
  },
  {
   "cell_type": "markdown",
   "metadata": {},
   "source": [
    "**Segmentar tus datos**\n",
    "\n",
    "Puedes querer dividir tus datos en grupos específicos para compararlos o analizarlos por separado. Filtrar te permite crear subconjuntos de datos para cada grupo y tener solo aquellas variables cuya relación entre si te ayuden a responder preguntas importantes para tu análisis."
   ]
  },
  {
   "cell_type": "markdown",
   "metadata": {},
   "source": [
    "**Extraer información especifica**\n",
    "Puedes buscar información específica en tus datos utilizando filtros. Por ejemplo, buscar todos los clientes que cumplan ciertos criterios o encontrar registros con características específicas."
   ]
  },
  {
   "cell_type": "markdown",
   "metadata": {},
   "source": [
    "## ¿Cómo filtrar datos en Pandas paso a paso?"
   ]
  },
  {
   "cell_type": "markdown",
   "metadata": {},
   "source": [
    "Supongamos que tenemos un DataFrame llamado df con datos de empleados y queremos filtrar empleados que cumplan con ciertas condiciones, como empleados que ganan más de $50,000 al año y tienen más de 30 años."
   ]
  },
  {
   "cell_type": "code",
   "execution_count": null,
   "metadata": {},
   "outputs": [],
   "source": [
    "#NO EJECUTAR EL CÓDIGO\n",
    "\n",
    "#import pandas as pd  #Lo primero para trabajar con Pandas es realizar la importación de la libreria a nuestro notebook o nuetro proyecto python (según sea el caso), en este caso hemos comentado la línea correspondiente a la importación ya que está se realiza en la parte superior del notebook\n",
    "\n",
    "# Ahora bien. Supongamos que ya tenemos un DataFrame df con datos de empleados\n",
    "\n",
    "# Definir una condición de filtro\n",
    "condicion = (df['Salario'] > 50000) & (df['Edad'] > 30)\n",
    "\n",
    "\"\"\"\n",
    "\n",
    "Donde: \n",
    "condicion    --Es la variable que almacenará el filtro--\n",
    "df           --Hace referencia al nombre del data frame de donde extraeremos la información--\n",
    "['Salario']  --Es el nombre de una de las columnas que contiene datos relevantes para nuestra consulta--\n",
    "> 50000      --Es la condición que nos ayuda a selecionar datos de la columna 'Salario'--\n",
    "&            --Es el operador lógico que nos ayuda a unir las dos condiciones del filtro--\n",
    "['Edad']     --Es el nombre de la otra columna que contiene datos relevantes para nuestra consulta--\n",
    "> 30         --Es la segunda condición que nos ayuda a seleccionar datos--\n",
    "\n",
    "\n",
    "\n",
    "Podemos leer el filtro así:\n",
    "\n",
    "Primera parte:\n",
    "\n",
    "  condicion =\n",
    "\n",
    "    En la variable condicion guarda como valor, el resultado de todo lo que se esciba despues del signo de igualdad (=)\n",
    "\n",
    "\n",
    "\n",
    "Segunda parte:\n",
    "\n",
    "  (df['Salario'] > 50000)\n",
    "\n",
    "    (df['Salario']\n",
    "      Del data frame df ve a la columna 'Salario',...\n",
    "\n",
    "    > 50000)\n",
    "      trae los valores que sean mayores a 50000...\n",
    "\n",
    "\n",
    "\n",
    "Tercera parte: \n",
    "\n",
    "  &\n",
    "    y además de la condición anterior(donde solo nos trae las series donde los valores de la columna  'Salario' son mayores a 50000)...\n",
    "\n",
    "\n",
    "\n",
    "Cuarta parte:\n",
    "\n",
    "  (df['Edad'] > 30)\n",
    "\n",
    "    (df['Edad'] \n",
    "      del data frame df ve a la columna 'Edad'...\n",
    "\n",
    "    > 30)\n",
    "      trae los valores que sean mayores a 30\n",
    "\n",
    " \n",
    "  \n",
    "El filtro queda asignado a la variable 'condicion' \n",
    "\"\"\"\n",
    "\n",
    "# Aplicar el filtro y crear un nuevo DataFrame con las filas que cumplan la condición\n",
    "empleados_filtrados = df[condicion]\n"
   ]
  },
  {
   "cell_type": "markdown",
   "metadata": {},
   "source": [
    "## Ejercicio 1"
   ]
  },
  {
   "cell_type": "markdown",
   "metadata": {},
   "source": [
    "Crea un DataFrame con datos de ventas, donde algunas filas tienen valores nulos en la columna Ventas. Filtra las filas que no tienen valores nulos en la columna Ventas."
   ]
  },
  {
   "cell_type": "markdown",
   "metadata": {},
   "source": [
    "### Respuesta"
   ]
  },
  {
   "cell_type": "code",
   "execution_count": 34,
   "metadata": {},
   "outputs": [],
   "source": [
    "ventas_2023 = {\n",
    "    \"Producto\": [\"cartera\",\"zapatos_t6\",\"zapatos_t7\",\"zapatos_t8\",\"zapatos_t9\",\"camisetas_s\",\"camisetas_m\",\"camisetas_xl\",\"shorts_xl\",\"short_m\", \"shorts_s\"],\n",
    "    \"unidades_vendidas\": [20,50,60,90,None,120,45,24,None,None,78],\n",
    "    \"disponible_stock\": [True,True, True,False,None, False,True,None,False,None, False]\n",
    "}"
   ]
  },
  {
   "cell_type": "code",
   "execution_count": 35,
   "metadata": {},
   "outputs": [
    {
     "data": {
      "text/html": [
       "<div>\n",
       "<style scoped>\n",
       "    .dataframe tbody tr th:only-of-type {\n",
       "        vertical-align: middle;\n",
       "    }\n",
       "\n",
       "    .dataframe tbody tr th {\n",
       "        vertical-align: top;\n",
       "    }\n",
       "\n",
       "    .dataframe thead th {\n",
       "        text-align: right;\n",
       "    }\n",
       "</style>\n",
       "<table border=\"1\" class=\"dataframe\">\n",
       "  <thead>\n",
       "    <tr style=\"text-align: right;\">\n",
       "      <th></th>\n",
       "      <th>Producto</th>\n",
       "      <th>unidades_vendidas</th>\n",
       "      <th>disponible_stock</th>\n",
       "    </tr>\n",
       "  </thead>\n",
       "  <tbody>\n",
       "    <tr>\n",
       "      <th>0</th>\n",
       "      <td>cartera</td>\n",
       "      <td>20.0</td>\n",
       "      <td>True</td>\n",
       "    </tr>\n",
       "    <tr>\n",
       "      <th>1</th>\n",
       "      <td>zapatos_t6</td>\n",
       "      <td>50.0</td>\n",
       "      <td>True</td>\n",
       "    </tr>\n",
       "    <tr>\n",
       "      <th>2</th>\n",
       "      <td>zapatos_t7</td>\n",
       "      <td>60.0</td>\n",
       "      <td>True</td>\n",
       "    </tr>\n",
       "    <tr>\n",
       "      <th>3</th>\n",
       "      <td>zapatos_t8</td>\n",
       "      <td>90.0</td>\n",
       "      <td>False</td>\n",
       "    </tr>\n",
       "    <tr>\n",
       "      <th>4</th>\n",
       "      <td>zapatos_t9</td>\n",
       "      <td>NaN</td>\n",
       "      <td>None</td>\n",
       "    </tr>\n",
       "    <tr>\n",
       "      <th>5</th>\n",
       "      <td>camisetas_s</td>\n",
       "      <td>120.0</td>\n",
       "      <td>False</td>\n",
       "    </tr>\n",
       "    <tr>\n",
       "      <th>6</th>\n",
       "      <td>camisetas_m</td>\n",
       "      <td>45.0</td>\n",
       "      <td>True</td>\n",
       "    </tr>\n",
       "    <tr>\n",
       "      <th>7</th>\n",
       "      <td>camisetas_xl</td>\n",
       "      <td>24.0</td>\n",
       "      <td>None</td>\n",
       "    </tr>\n",
       "    <tr>\n",
       "      <th>8</th>\n",
       "      <td>shorts_xl</td>\n",
       "      <td>NaN</td>\n",
       "      <td>False</td>\n",
       "    </tr>\n",
       "    <tr>\n",
       "      <th>9</th>\n",
       "      <td>short_m</td>\n",
       "      <td>NaN</td>\n",
       "      <td>None</td>\n",
       "    </tr>\n",
       "    <tr>\n",
       "      <th>10</th>\n",
       "      <td>shorts_s</td>\n",
       "      <td>78.0</td>\n",
       "      <td>False</td>\n",
       "    </tr>\n",
       "  </tbody>\n",
       "</table>\n",
       "</div>"
      ],
      "text/plain": [
       "        Producto  unidades_vendidas disponible_stock\n",
       "0        cartera               20.0             True\n",
       "1     zapatos_t6               50.0             True\n",
       "2     zapatos_t7               60.0             True\n",
       "3     zapatos_t8               90.0            False\n",
       "4     zapatos_t9                NaN             None\n",
       "5    camisetas_s              120.0            False\n",
       "6    camisetas_m               45.0             True\n",
       "7   camisetas_xl               24.0             None\n",
       "8      shorts_xl                NaN            False\n",
       "9        short_m                NaN             None\n",
       "10      shorts_s               78.0            False"
      ]
     },
     "execution_count": 35,
     "metadata": {},
     "output_type": "execute_result"
    }
   ],
   "source": [
    "ventas_df = pd.DataFrame(ventas_2023)\n",
    "ventas_df"
   ]
  },
  {
   "cell_type": "code",
   "execution_count": 48,
   "metadata": {},
   "outputs": [
    {
     "data": {
      "text/html": [
       "<div>\n",
       "<style scoped>\n",
       "    .dataframe tbody tr th:only-of-type {\n",
       "        vertical-align: middle;\n",
       "    }\n",
       "\n",
       "    .dataframe tbody tr th {\n",
       "        vertical-align: top;\n",
       "    }\n",
       "\n",
       "    .dataframe thead th {\n",
       "        text-align: right;\n",
       "    }\n",
       "</style>\n",
       "<table border=\"1\" class=\"dataframe\">\n",
       "  <thead>\n",
       "    <tr style=\"text-align: right;\">\n",
       "      <th></th>\n",
       "      <th>Producto</th>\n",
       "      <th>unidades_vendidas</th>\n",
       "      <th>disponible_stock</th>\n",
       "    </tr>\n",
       "  </thead>\n",
       "  <tbody>\n",
       "    <tr>\n",
       "      <th>0</th>\n",
       "      <td>cartera</td>\n",
       "      <td>20.0</td>\n",
       "      <td>True</td>\n",
       "    </tr>\n",
       "    <tr>\n",
       "      <th>1</th>\n",
       "      <td>zapatos_t6</td>\n",
       "      <td>50.0</td>\n",
       "      <td>True</td>\n",
       "    </tr>\n",
       "    <tr>\n",
       "      <th>2</th>\n",
       "      <td>zapatos_t7</td>\n",
       "      <td>60.0</td>\n",
       "      <td>True</td>\n",
       "    </tr>\n",
       "    <tr>\n",
       "      <th>3</th>\n",
       "      <td>zapatos_t8</td>\n",
       "      <td>90.0</td>\n",
       "      <td>False</td>\n",
       "    </tr>\n",
       "    <tr>\n",
       "      <th>5</th>\n",
       "      <td>camisetas_s</td>\n",
       "      <td>120.0</td>\n",
       "      <td>False</td>\n",
       "    </tr>\n",
       "    <tr>\n",
       "      <th>6</th>\n",
       "      <td>camisetas_m</td>\n",
       "      <td>45.0</td>\n",
       "      <td>True</td>\n",
       "    </tr>\n",
       "    <tr>\n",
       "      <th>10</th>\n",
       "      <td>shorts_s</td>\n",
       "      <td>78.0</td>\n",
       "      <td>False</td>\n",
       "    </tr>\n",
       "  </tbody>\n",
       "</table>\n",
       "</div>"
      ],
      "text/plain": [
       "       Producto  unidades_vendidas disponible_stock\n",
       "0       cartera               20.0             True\n",
       "1    zapatos_t6               50.0             True\n",
       "2    zapatos_t7               60.0             True\n",
       "3    zapatos_t8               90.0            False\n",
       "5   camisetas_s              120.0            False\n",
       "6   camisetas_m               45.0             True\n",
       "10     shorts_s               78.0            False"
      ]
     },
     "execution_count": 48,
     "metadata": {},
     "output_type": "execute_result"
    }
   ],
   "source": [
    "data_clean = ventas_df.dropna(subset=['unidades_vendidas',\"disponible_stock\"])\n",
    "data_clean"
   ]
  },
  {
   "cell_type": "markdown",
   "metadata": {},
   "source": [
    "## Ejercicio 2"
   ]
  },
  {
   "cell_type": "markdown",
   "metadata": {},
   "source": [
    "Crea un DataFrame con datos de estudiantes que incluyen las columnas Nombre, Edad y Género. Luego, filtra los estudiantes que son de género femenino."
   ]
  },
  {
   "cell_type": "markdown",
   "metadata": {},
   "source": [
    "### Respuesta"
   ]
  },
  {
   "cell_type": "code",
   "execution_count": 30,
   "metadata": {},
   "outputs": [],
   "source": [
    "estudiantes = {\n",
    "    \"Nombre\": [\"Goku\", \"Gohan\", \"Bulma\", \"Chaos\", \"Milk\", \"Krillim\"],\n",
    "    \"Edad\": [50,35,60,52,50,52],\n",
    "    \"Genero\": [\"m\",\"m\",\"f\",\"m\",\"f\",\"m\"]\n",
    "}"
   ]
  },
  {
   "cell_type": "code",
   "execution_count": 31,
   "metadata": {},
   "outputs": [
    {
     "data": {
      "text/html": [
       "<div>\n",
       "<style scoped>\n",
       "    .dataframe tbody tr th:only-of-type {\n",
       "        vertical-align: middle;\n",
       "    }\n",
       "\n",
       "    .dataframe tbody tr th {\n",
       "        vertical-align: top;\n",
       "    }\n",
       "\n",
       "    .dataframe thead th {\n",
       "        text-align: right;\n",
       "    }\n",
       "</style>\n",
       "<table border=\"1\" class=\"dataframe\">\n",
       "  <thead>\n",
       "    <tr style=\"text-align: right;\">\n",
       "      <th></th>\n",
       "      <th>Nombre</th>\n",
       "      <th>Edad</th>\n",
       "      <th>Genero</th>\n",
       "    </tr>\n",
       "  </thead>\n",
       "  <tbody>\n",
       "    <tr>\n",
       "      <th>0</th>\n",
       "      <td>Goku</td>\n",
       "      <td>50</td>\n",
       "      <td>m</td>\n",
       "    </tr>\n",
       "    <tr>\n",
       "      <th>1</th>\n",
       "      <td>Gohan</td>\n",
       "      <td>35</td>\n",
       "      <td>m</td>\n",
       "    </tr>\n",
       "    <tr>\n",
       "      <th>2</th>\n",
       "      <td>Bulma</td>\n",
       "      <td>60</td>\n",
       "      <td>f</td>\n",
       "    </tr>\n",
       "    <tr>\n",
       "      <th>3</th>\n",
       "      <td>Chaos</td>\n",
       "      <td>52</td>\n",
       "      <td>m</td>\n",
       "    </tr>\n",
       "    <tr>\n",
       "      <th>4</th>\n",
       "      <td>Milk</td>\n",
       "      <td>50</td>\n",
       "      <td>f</td>\n",
       "    </tr>\n",
       "    <tr>\n",
       "      <th>5</th>\n",
       "      <td>Krillim</td>\n",
       "      <td>52</td>\n",
       "      <td>m</td>\n",
       "    </tr>\n",
       "  </tbody>\n",
       "</table>\n",
       "</div>"
      ],
      "text/plain": [
       "    Nombre  Edad Genero\n",
       "0     Goku    50      m\n",
       "1    Gohan    35      m\n",
       "2    Bulma    60      f\n",
       "3    Chaos    52      m\n",
       "4     Milk    50      f\n",
       "5  Krillim    52      m"
      ]
     },
     "execution_count": 31,
     "metadata": {},
     "output_type": "execute_result"
    }
   ],
   "source": [
    "df_students = pd.DataFrame(estudiantes)\n",
    "df_students"
   ]
  },
  {
   "cell_type": "markdown",
   "metadata": {},
   "source": [
    "## Ejercicio 3"
   ]
  },
  {
   "cell_type": "markdown",
   "metadata": {},
   "source": [
    "Supongamos que tienes un DataFrame con datos de ventas que incluye las columnas Producto, Ventas y Fecha. Crea un DataFrame y filtra las ventas de productos 'A' que fueron mayores de $1000 y ocurrieron en el año 2023."
   ]
  },
  {
   "cell_type": "markdown",
   "metadata": {},
   "source": [
    "### Respuesta"
   ]
  },
  {
   "cell_type": "code",
   "execution_count": 51,
   "metadata": {},
   "outputs": [],
   "source": [
    "sales = {\n",
    "    \"product\": [\"camisas\", \"pantalones\", \"sombreros\",\"suaters\", \"libros\", \"mesas\", \"sillas\", \"blusas\"],\n",
    "    \"sales_m\": [350, 2500, 120,450,500,650,100,900],\n",
    "    \"date\": [\"2022-01-12\", \"2023-03-03\",\"2021-01-04\", \"2022-05-06\", \"2023-08-08\", \"2021-09-09\", \"2020-01-06\", \"2022-04-04\"]\n",
    "}"
   ]
  },
  {
   "cell_type": "code",
   "execution_count": 52,
   "metadata": {},
   "outputs": [
    {
     "data": {
      "text/html": [
       "<div>\n",
       "<style scoped>\n",
       "    .dataframe tbody tr th:only-of-type {\n",
       "        vertical-align: middle;\n",
       "    }\n",
       "\n",
       "    .dataframe tbody tr th {\n",
       "        vertical-align: top;\n",
       "    }\n",
       "\n",
       "    .dataframe thead th {\n",
       "        text-align: right;\n",
       "    }\n",
       "</style>\n",
       "<table border=\"1\" class=\"dataframe\">\n",
       "  <thead>\n",
       "    <tr style=\"text-align: right;\">\n",
       "      <th></th>\n",
       "      <th>product</th>\n",
       "      <th>sales_m</th>\n",
       "      <th>date</th>\n",
       "    </tr>\n",
       "  </thead>\n",
       "  <tbody>\n",
       "    <tr>\n",
       "      <th>0</th>\n",
       "      <td>camisas</td>\n",
       "      <td>350</td>\n",
       "      <td>2022-01-12</td>\n",
       "    </tr>\n",
       "    <tr>\n",
       "      <th>1</th>\n",
       "      <td>pantalones</td>\n",
       "      <td>2500</td>\n",
       "      <td>2023-03-03</td>\n",
       "    </tr>\n",
       "    <tr>\n",
       "      <th>2</th>\n",
       "      <td>sombreros</td>\n",
       "      <td>120</td>\n",
       "      <td>2021-01-04</td>\n",
       "    </tr>\n",
       "    <tr>\n",
       "      <th>3</th>\n",
       "      <td>suaters</td>\n",
       "      <td>450</td>\n",
       "      <td>2022-05-06</td>\n",
       "    </tr>\n",
       "    <tr>\n",
       "      <th>4</th>\n",
       "      <td>libros</td>\n",
       "      <td>500</td>\n",
       "      <td>2023-08-08</td>\n",
       "    </tr>\n",
       "    <tr>\n",
       "      <th>5</th>\n",
       "      <td>mesas</td>\n",
       "      <td>650</td>\n",
       "      <td>2021-09-09</td>\n",
       "    </tr>\n",
       "    <tr>\n",
       "      <th>6</th>\n",
       "      <td>sillas</td>\n",
       "      <td>100</td>\n",
       "      <td>2020-01-06</td>\n",
       "    </tr>\n",
       "    <tr>\n",
       "      <th>7</th>\n",
       "      <td>blusas</td>\n",
       "      <td>900</td>\n",
       "      <td>2022-04-04</td>\n",
       "    </tr>\n",
       "  </tbody>\n",
       "</table>\n",
       "</div>"
      ],
      "text/plain": [
       "      product  sales_m        date\n",
       "0     camisas      350  2022-01-12\n",
       "1  pantalones     2500  2023-03-03\n",
       "2   sombreros      120  2021-01-04\n",
       "3     suaters      450  2022-05-06\n",
       "4      libros      500  2023-08-08\n",
       "5       mesas      650  2021-09-09\n",
       "6      sillas      100  2020-01-06\n",
       "7      blusas      900  2022-04-04"
      ]
     },
     "execution_count": 52,
     "metadata": {},
     "output_type": "execute_result"
    }
   ],
   "source": [
    "df_sales = pd.DataFrame(sales)\n",
    "df_sales"
   ]
  },
  {
   "cell_type": "code",
   "execution_count": 54,
   "metadata": {},
   "outputs": [
    {
     "data": {
      "text/html": [
       "<div>\n",
       "<style scoped>\n",
       "    .dataframe tbody tr th:only-of-type {\n",
       "        vertical-align: middle;\n",
       "    }\n",
       "\n",
       "    .dataframe tbody tr th {\n",
       "        vertical-align: top;\n",
       "    }\n",
       "\n",
       "    .dataframe thead th {\n",
       "        text-align: right;\n",
       "    }\n",
       "</style>\n",
       "<table border=\"1\" class=\"dataframe\">\n",
       "  <thead>\n",
       "    <tr style=\"text-align: right;\">\n",
       "      <th></th>\n",
       "      <th>product</th>\n",
       "      <th>sales_m</th>\n",
       "      <th>date</th>\n",
       "    </tr>\n",
       "  </thead>\n",
       "  <tbody>\n",
       "    <tr>\n",
       "      <th>1</th>\n",
       "      <td>pantalones</td>\n",
       "      <td>2500</td>\n",
       "      <td>2023-03-03</td>\n",
       "    </tr>\n",
       "  </tbody>\n",
       "</table>\n",
       "</div>"
      ],
      "text/plain": [
       "      product  sales_m        date\n",
       "1  pantalones     2500  2023-03-03"
      ]
     },
     "execution_count": 54,
     "metadata": {},
     "output_type": "execute_result"
    }
   ],
   "source": [
    "v_2023 = (df_sales['sales_m'] > 1000) & (df_sales['date'].str.startswith(\"2023\"))\n",
    "v_2023 = df_sales[v_2023]\n",
    "v_2023"
   ]
  },
  {
   "cell_type": "markdown",
   "metadata": {},
   "source": [
    "## Añadir y eliminar columnas"
   ]
  },
  {
   "cell_type": "markdown",
   "metadata": {},
   "source": [
    "Añadir y eliminar columnas en Pandas es una parte esencial de la manipulación de datos, ya que te permite personalizar y transformar tus DataFrames según tus necesidades específicas. "
   ]
  },
  {
   "cell_type": "markdown",
   "metadata": {},
   "source": [
    "**¿Cuándo deberíamos añadir columnas?**"
   ]
  },
  {
   "cell_type": "markdown",
   "metadata": {},
   "source": [
    "Cuando debamos crear agregar nuevas caracteristicas a nuestro data set:\n",
    "\n",
    "A menudo, necesitas crear nuevas características o variables a partir de las existentes para mejorar el análisis o el rendimiento de los modelos. Por ejemplo, podrías calcular la edad en meses a partir de la edad en años o crear una columna que represente una variable categórica a partir de valores numéricos."
   ]
  },
  {
   "cell_type": "markdown",
   "metadata": {},
   "source": [
    "Cuando tengamos que almacenar resultados intermedios: \n",
    "\n",
    "Puedes añadir columnas para almacenar resultados de cálculos o transformaciones intermedias. Esto es útil para mantener un registro de los pasos que has realizado en tu análisis y mejorar la trazabilidad de tus procesos."
   ]
  },
  {
   "cell_type": "markdown",
   "metadata": {},
   "source": [
    "Cuando queramos personalizar nuestro data set:\n",
    "\n",
    "Añadir columnas te permite personalizar el DataFrame para adaptarlo a tus necesidades específicas de análisis. Esto es algo que habitulmente deberás hacer pues cada caso de uso tiene sus particularidades y objetivos propios."
   ]
  },
  {
   "cell_type": "markdown",
   "metadata": {},
   "source": [
    "**¿Cómo añadimos columnas a nuestros data frames?**"
   ]
  },
  {
   "cell_type": "markdown",
   "metadata": {},
   "source": [
    "Añadir columnas a un DataFrame es algo muy sencillo de hacer usando Pandas, aunque existen más de una forma de como hacerlo. "
   ]
  },
  {
   "cell_type": "markdown",
   "metadata": {},
   "source": [
    "*Por asignación directa:*\n",
    "\n",
    "Lo que debemos hacer para añadir colmnas con esta forma, es simplemente asignar una Serie (que puede ser una lista, una matriz NumPy o una Serie de Pandas) a una nueva columna que aún no existe en el DataFrame.\n",
    "\n",
    "Por ejemplo:"
   ]
  },
  {
   "cell_type": "code",
   "execution_count": 25,
   "metadata": {},
   "outputs": [
    {
     "data": {
      "text/html": [
       "<div>\n",
       "<style scoped>\n",
       "    .dataframe tbody tr th:only-of-type {\n",
       "        vertical-align: middle;\n",
       "    }\n",
       "\n",
       "    .dataframe tbody tr th {\n",
       "        vertical-align: top;\n",
       "    }\n",
       "\n",
       "    .dataframe thead th {\n",
       "        text-align: right;\n",
       "    }\n",
       "</style>\n",
       "<table border=\"1\" class=\"dataframe\">\n",
       "  <thead>\n",
       "    <tr style=\"text-align: right;\">\n",
       "      <th></th>\n",
       "      <th>Nombre</th>\n",
       "      <th>Edad</th>\n",
       "    </tr>\n",
       "  </thead>\n",
       "  <tbody>\n",
       "    <tr>\n",
       "      <th>0</th>\n",
       "      <td>Alice</td>\n",
       "      <td>25</td>\n",
       "    </tr>\n",
       "    <tr>\n",
       "      <th>1</th>\n",
       "      <td>Bob</td>\n",
       "      <td>30</td>\n",
       "    </tr>\n",
       "    <tr>\n",
       "      <th>2</th>\n",
       "      <td>Charlie</td>\n",
       "      <td>35</td>\n",
       "    </tr>\n",
       "  </tbody>\n",
       "</table>\n",
       "</div>"
      ],
      "text/plain": [
       "    Nombre  Edad\n",
       "0    Alice    25\n",
       "1      Bob    30\n",
       "2  Charlie    35"
      ]
     },
     "execution_count": 25,
     "metadata": {},
     "output_type": "execute_result"
    }
   ],
   "source": [
    "# Crear un DataFrame de ejemplo\n",
    "data_plus = {'Nombre': ['Alice', 'Bob', 'Charlie'],\n",
    "        'Edad': [25, 30, 35]}\n",
    "df_plus = pd.DataFrame(data)\n",
    "\n",
    "df_plus\n"
   ]
  },
  {
   "cell_type": "code",
   "execution_count": 26,
   "metadata": {},
   "outputs": [
    {
     "data": {
      "text/html": [
       "<div>\n",
       "<style scoped>\n",
       "    .dataframe tbody tr th:only-of-type {\n",
       "        vertical-align: middle;\n",
       "    }\n",
       "\n",
       "    .dataframe tbody tr th {\n",
       "        vertical-align: top;\n",
       "    }\n",
       "\n",
       "    .dataframe thead th {\n",
       "        text-align: right;\n",
       "    }\n",
       "</style>\n",
       "<table border=\"1\" class=\"dataframe\">\n",
       "  <thead>\n",
       "    <tr style=\"text-align: right;\">\n",
       "      <th></th>\n",
       "      <th>Nombre</th>\n",
       "      <th>Edad</th>\n",
       "      <th>Puntaje</th>\n",
       "    </tr>\n",
       "  </thead>\n",
       "  <tbody>\n",
       "    <tr>\n",
       "      <th>0</th>\n",
       "      <td>Alice</td>\n",
       "      <td>25</td>\n",
       "      <td>90</td>\n",
       "    </tr>\n",
       "    <tr>\n",
       "      <th>1</th>\n",
       "      <td>Bob</td>\n",
       "      <td>30</td>\n",
       "      <td>85</td>\n",
       "    </tr>\n",
       "    <tr>\n",
       "      <th>2</th>\n",
       "      <td>Charlie</td>\n",
       "      <td>35</td>\n",
       "      <td>92</td>\n",
       "    </tr>\n",
       "  </tbody>\n",
       "</table>\n",
       "</div>"
      ],
      "text/plain": [
       "    Nombre  Edad  Puntaje\n",
       "0    Alice    25       90\n",
       "1      Bob    30       85\n",
       "2  Charlie    35       92"
      ]
     },
     "execution_count": 26,
     "metadata": {},
     "output_type": "execute_result"
    }
   ],
   "source": [
    "# Añadir una nueva columna 'Puntaje'\n",
    "puntajes = [90, 85, 92]\n",
    "df_plus['Puntaje'] = puntajes\n",
    "df_plus"
   ]
  },
  {
   "cell_type": "markdown",
   "metadata": {},
   "source": [
    "*Usabdo el método 'assing()'*\n",
    "\n",
    "El método assign() permite añadir una nueva columna o reemplazar una existente con una nueva Serie o columna calculada. Esto devuelve un nuevo DataFrame con la columna añadida.\n",
    "\n",
    "\n",
    "por ejemplo:"
   ]
  },
  {
   "cell_type": "code",
   "execution_count": 27,
   "metadata": {},
   "outputs": [
    {
     "data": {
      "text/html": [
       "<div>\n",
       "<style scoped>\n",
       "    .dataframe tbody tr th:only-of-type {\n",
       "        vertical-align: middle;\n",
       "    }\n",
       "\n",
       "    .dataframe tbody tr th {\n",
       "        vertical-align: top;\n",
       "    }\n",
       "\n",
       "    .dataframe thead th {\n",
       "        text-align: right;\n",
       "    }\n",
       "</style>\n",
       "<table border=\"1\" class=\"dataframe\">\n",
       "  <thead>\n",
       "    <tr style=\"text-align: right;\">\n",
       "      <th></th>\n",
       "      <th>Nombre</th>\n",
       "      <th>Edad</th>\n",
       "      <th>Puntaje</th>\n",
       "      <th>Posicion</th>\n",
       "      <th>Genero</th>\n",
       "      <th>Nacionalidad</th>\n",
       "      <th>Residencia</th>\n",
       "      <th>Nulos</th>\n",
       "    </tr>\n",
       "  </thead>\n",
       "  <tbody>\n",
       "    <tr>\n",
       "      <th>0</th>\n",
       "      <td>Alice</td>\n",
       "      <td>25</td>\n",
       "      <td>90</td>\n",
       "      <td>1</td>\n",
       "      <td>F</td>\n",
       "      <td>Inglesa</td>\n",
       "      <td>PE</td>\n",
       "      <td>None</td>\n",
       "    </tr>\n",
       "    <tr>\n",
       "      <th>1</th>\n",
       "      <td>Bob</td>\n",
       "      <td>30</td>\n",
       "      <td>85</td>\n",
       "      <td>2</td>\n",
       "      <td>M</td>\n",
       "      <td>Canadience</td>\n",
       "      <td>MEX</td>\n",
       "      <td>None</td>\n",
       "    </tr>\n",
       "    <tr>\n",
       "      <th>2</th>\n",
       "      <td>Charlie</td>\n",
       "      <td>35</td>\n",
       "      <td>92</td>\n",
       "      <td>3</td>\n",
       "      <td>M</td>\n",
       "      <td>Australiano</td>\n",
       "      <td>COL</td>\n",
       "      <td>None</td>\n",
       "    </tr>\n",
       "  </tbody>\n",
       "</table>\n",
       "</div>"
      ],
      "text/plain": [
       "    Nombre  Edad  Puntaje  Posicion Genero Nacionalidad Residencia Nulos\n",
       "0    Alice    25       90         1      F      Inglesa         PE  None\n",
       "1      Bob    30       85         2      M   Canadience        MEX  None\n",
       "2  Charlie    35       92         3      M  Australiano        COL  None"
      ]
     },
     "execution_count": 27,
     "metadata": {},
     "output_type": "execute_result"
    }
   ],
   "source": [
    "df_Nplus = df_plus.assign(Posicion=[1, 2, 3], Genero=[\"F\",\"M\",\"M\"], Nacionalidad=[\"Inglesa\", \"Canadience\",\"Australiano\"], Residencia=[\"PE\",\"MEX\",\"COL\"], Nulos=[None, None, None])\n",
    "df_Nplus\n"
   ]
  },
  {
   "cell_type": "markdown",
   "metadata": {},
   "source": [
    "**¿Cuándo debériamos eliminar columnas?**"
   ]
  },
  {
   "cell_type": "markdown",
   "metadata": {},
   "source": [
    "*Cuando tengamos caracteristicas irrelevantes en nuestro data set*\n",
    "\n",
    "Si una columna no ayuada a responder las preguntas objetivo de tu análisis o modelo, es una buena práctica eliminarla para reducir el ruido y simplificar el DataFrame."
   ]
  },
  {
   "cell_type": "markdown",
   "metadata": {},
   "source": [
    "*Cuando contengan datos confidenciales*\n",
    "\n",
    "Si una columna contiene información sensible o confidencial que no se necesita para el análisis, eliminarla es importante para la privacidad de los datos.\n"
   ]
  },
  {
   "cell_type": "markdown",
   "metadata": {},
   "source": [
    "*Cuando tengamos un dataset muy complejo o extenso*\n",
    "\n",
    "En ocasiones, eliminar columnas puede reducir la complejidad y el tamaño del DataFrame, lo que facilita la manipulación y el análisis de los datos."
   ]
  },
  {
   "cell_type": "markdown",
   "metadata": {},
   "source": [
    "*Cuando tengamos que manejar valores nulos*\n",
    "\n",
    "Si una columna tiene una cantidad significativa de valores nulos que no pueden ser llenados o que no son útiles, eliminar la columna puede ser una opción."
   ]
  },
  {
   "cell_type": "markdown",
   "metadata": {},
   "source": [
    "Eliminar columnas debe ser una decisión bien pensada pues corremos el riesgo de eliminar datos potencialmente valiosos para nuestro análisis."
   ]
  },
  {
   "cell_type": "markdown",
   "metadata": {},
   "source": [
    "**¿Cómo eliminamos columnas en un Pandas DataFrame?**"
   ]
  },
  {
   "cell_type": "markdown",
   "metadata": {},
   "source": [
    "Al igual que añadir columnas, eliminarlas es algo muy sencillo de hacer en pandas y está librería nos ofrece más de una forma de alcanzar este objetivo."
   ]
  },
  {
   "cell_type": "markdown",
   "metadata": {},
   "source": [
    "*Usando el operador del*\n",
    "\n",
    "Puedes eliminar una columna utilizando el operador del. Esto modifica el DataFrame existente eliminando permanentemente la columna especificada."
   ]
  },
  {
   "cell_type": "code",
   "execution_count": 28,
   "metadata": {},
   "outputs": [
    {
     "data": {
      "text/html": [
       "<div>\n",
       "<style scoped>\n",
       "    .dataframe tbody tr th:only-of-type {\n",
       "        vertical-align: middle;\n",
       "    }\n",
       "\n",
       "    .dataframe tbody tr th {\n",
       "        vertical-align: top;\n",
       "    }\n",
       "\n",
       "    .dataframe thead th {\n",
       "        text-align: right;\n",
       "    }\n",
       "</style>\n",
       "<table border=\"1\" class=\"dataframe\">\n",
       "  <thead>\n",
       "    <tr style=\"text-align: right;\">\n",
       "      <th></th>\n",
       "      <th>Nombre</th>\n",
       "      <th>Puntaje</th>\n",
       "      <th>Posicion</th>\n",
       "      <th>Genero</th>\n",
       "      <th>Nacionalidad</th>\n",
       "      <th>Residencia</th>\n",
       "      <th>Nulos</th>\n",
       "    </tr>\n",
       "  </thead>\n",
       "  <tbody>\n",
       "    <tr>\n",
       "      <th>0</th>\n",
       "      <td>Alice</td>\n",
       "      <td>90</td>\n",
       "      <td>1</td>\n",
       "      <td>F</td>\n",
       "      <td>Inglesa</td>\n",
       "      <td>PE</td>\n",
       "      <td>None</td>\n",
       "    </tr>\n",
       "    <tr>\n",
       "      <th>1</th>\n",
       "      <td>Bob</td>\n",
       "      <td>85</td>\n",
       "      <td>2</td>\n",
       "      <td>M</td>\n",
       "      <td>Canadience</td>\n",
       "      <td>MEX</td>\n",
       "      <td>None</td>\n",
       "    </tr>\n",
       "    <tr>\n",
       "      <th>2</th>\n",
       "      <td>Charlie</td>\n",
       "      <td>92</td>\n",
       "      <td>3</td>\n",
       "      <td>M</td>\n",
       "      <td>Australiano</td>\n",
       "      <td>COL</td>\n",
       "      <td>None</td>\n",
       "    </tr>\n",
       "  </tbody>\n",
       "</table>\n",
       "</div>"
      ],
      "text/plain": [
       "    Nombre  Puntaje  Posicion Genero Nacionalidad Residencia Nulos\n",
       "0    Alice       90         1      F      Inglesa         PE  None\n",
       "1      Bob       85         2      M   Canadience        MEX  None\n",
       "2  Charlie       92         3      M  Australiano        COL  None"
      ]
     },
     "execution_count": 28,
     "metadata": {},
     "output_type": "execute_result"
    }
   ],
   "source": [
    "#usaremos los datos del ejemplo anterior\n",
    "\n",
    "del df_Nplus['Edad']\n",
    "\n",
    "df_Nplus\n"
   ]
  },
  {
   "cell_type": "markdown",
   "metadata": {},
   "source": [
    "*Usando el método drop*\n",
    "\n",
    "El método drop() se utiliza para eliminar filas o columnas de un DataFrame. Puedes especificar el nombre de la columna que deseas eliminar y utilizar el argumento axis=1 para indicar que se trata de una columna."
   ]
  },
  {
   "cell_type": "code",
   "execution_count": 29,
   "metadata": {},
   "outputs": [
    {
     "data": {
      "text/html": [
       "<div>\n",
       "<style scoped>\n",
       "    .dataframe tbody tr th:only-of-type {\n",
       "        vertical-align: middle;\n",
       "    }\n",
       "\n",
       "    .dataframe tbody tr th {\n",
       "        vertical-align: top;\n",
       "    }\n",
       "\n",
       "    .dataframe thead th {\n",
       "        text-align: right;\n",
       "    }\n",
       "</style>\n",
       "<table border=\"1\" class=\"dataframe\">\n",
       "  <thead>\n",
       "    <tr style=\"text-align: right;\">\n",
       "      <th></th>\n",
       "      <th>Nombre</th>\n",
       "      <th>Puntaje</th>\n",
       "      <th>Posicion</th>\n",
       "      <th>Genero</th>\n",
       "      <th>Nacionalidad</th>\n",
       "      <th>Nulos</th>\n",
       "    </tr>\n",
       "  </thead>\n",
       "  <tbody>\n",
       "    <tr>\n",
       "      <th>0</th>\n",
       "      <td>Alice</td>\n",
       "      <td>90</td>\n",
       "      <td>1</td>\n",
       "      <td>F</td>\n",
       "      <td>Inglesa</td>\n",
       "      <td>None</td>\n",
       "    </tr>\n",
       "    <tr>\n",
       "      <th>1</th>\n",
       "      <td>Bob</td>\n",
       "      <td>85</td>\n",
       "      <td>2</td>\n",
       "      <td>M</td>\n",
       "      <td>Canadience</td>\n",
       "      <td>None</td>\n",
       "    </tr>\n",
       "    <tr>\n",
       "      <th>2</th>\n",
       "      <td>Charlie</td>\n",
       "      <td>92</td>\n",
       "      <td>3</td>\n",
       "      <td>M</td>\n",
       "      <td>Australiano</td>\n",
       "      <td>None</td>\n",
       "    </tr>\n",
       "  </tbody>\n",
       "</table>\n",
       "</div>"
      ],
      "text/plain": [
       "    Nombre  Puntaje  Posicion Genero Nacionalidad Nulos\n",
       "0    Alice       90         1      F      Inglesa  None\n",
       "1      Bob       85         2      M   Canadience  None\n",
       "2  Charlie       92         3      M  Australiano  None"
      ]
     },
     "execution_count": 29,
     "metadata": {},
     "output_type": "execute_result"
    }
   ],
   "source": [
    "df_Nplus = df_Nplus.drop('Residencia', axis=1)\n",
    "df_Nplus\n"
   ]
  },
  {
   "cell_type": "markdown",
   "metadata": {},
   "source": [
    "*Usando el método pop*\n",
    "\n",
    "El método pop() permite eliminar y recuperar una columna de un DataFrame en un solo paso. La columna se elimina del DataFrame original y se devuelve como una Serie.\n",
    "\n"
   ]
  },
  {
   "cell_type": "code",
   "execution_count": 30,
   "metadata": {},
   "outputs": [
    {
     "data": {
      "text/html": [
       "<div>\n",
       "<style scoped>\n",
       "    .dataframe tbody tr th:only-of-type {\n",
       "        vertical-align: middle;\n",
       "    }\n",
       "\n",
       "    .dataframe tbody tr th {\n",
       "        vertical-align: top;\n",
       "    }\n",
       "\n",
       "    .dataframe thead th {\n",
       "        text-align: right;\n",
       "    }\n",
       "</style>\n",
       "<table border=\"1\" class=\"dataframe\">\n",
       "  <thead>\n",
       "    <tr style=\"text-align: right;\">\n",
       "      <th></th>\n",
       "      <th>Nombre</th>\n",
       "      <th>Puntaje</th>\n",
       "      <th>Posicion</th>\n",
       "      <th>Nacionalidad</th>\n",
       "      <th>Nulos</th>\n",
       "    </tr>\n",
       "  </thead>\n",
       "  <tbody>\n",
       "    <tr>\n",
       "      <th>0</th>\n",
       "      <td>Alice</td>\n",
       "      <td>90</td>\n",
       "      <td>1</td>\n",
       "      <td>Inglesa</td>\n",
       "      <td>None</td>\n",
       "    </tr>\n",
       "    <tr>\n",
       "      <th>1</th>\n",
       "      <td>Bob</td>\n",
       "      <td>85</td>\n",
       "      <td>2</td>\n",
       "      <td>Canadience</td>\n",
       "      <td>None</td>\n",
       "    </tr>\n",
       "    <tr>\n",
       "      <th>2</th>\n",
       "      <td>Charlie</td>\n",
       "      <td>92</td>\n",
       "      <td>3</td>\n",
       "      <td>Australiano</td>\n",
       "      <td>None</td>\n",
       "    </tr>\n",
       "  </tbody>\n",
       "</table>\n",
       "</div>"
      ],
      "text/plain": [
       "    Nombre  Puntaje  Posicion Nacionalidad Nulos\n",
       "0    Alice       90         1      Inglesa  None\n",
       "1      Bob       85         2   Canadience  None\n",
       "2  Charlie       92         3  Australiano  None"
      ]
     },
     "execution_count": 30,
     "metadata": {},
     "output_type": "execute_result"
    }
   ],
   "source": [
    "columna_eliminada = df_Nplus.pop('Genero')\n",
    "\n",
    "df_Nplus\n"
   ]
  },
  {
   "cell_type": "code",
   "execution_count": 31,
   "metadata": {},
   "outputs": [
    {
     "name": "stdout",
     "output_type": "stream",
     "text": [
      "0    F\n",
      "1    M\n",
      "2    M\n",
      "Name: Genero, dtype: object\n"
     ]
    }
   ],
   "source": [
    "print(columna_eliminada)"
   ]
  },
  {
   "cell_type": "markdown",
   "metadata": {},
   "source": [
    "*Usando el método drop sin asignación*\n",
    "\n",
    "Puedes eliminar una columna utilizando el método drop() sin asignar el resultado a un nuevo DataFrame. Esto modificará el DataFrame original de forma permanente.\n",
    "\n",
    "Debemos ser cuidadosos al usar este metodo, pues elimina los datos de la fuente original por lo que no pueden ser recuperados, aunque se recarge las fuentes o celdas. Procura que los datos eliminados por este metodo sean datos que no volverás a utilizar.\n",
    "\n",
    "También puedes crear una copia de tus data set originales al inicio de tus proyectos para tener un respaldo disponible en caso de errores"
   ]
  },
  {
   "cell_type": "code",
   "execution_count": 32,
   "metadata": {},
   "outputs": [
    {
     "data": {
      "text/html": [
       "<div>\n",
       "<style scoped>\n",
       "    .dataframe tbody tr th:only-of-type {\n",
       "        vertical-align: middle;\n",
       "    }\n",
       "\n",
       "    .dataframe tbody tr th {\n",
       "        vertical-align: top;\n",
       "    }\n",
       "\n",
       "    .dataframe thead th {\n",
       "        text-align: right;\n",
       "    }\n",
       "</style>\n",
       "<table border=\"1\" class=\"dataframe\">\n",
       "  <thead>\n",
       "    <tr style=\"text-align: right;\">\n",
       "      <th></th>\n",
       "      <th>Nombre</th>\n",
       "      <th>Puntaje</th>\n",
       "      <th>Posicion</th>\n",
       "      <th>Nacionalidad</th>\n",
       "    </tr>\n",
       "  </thead>\n",
       "  <tbody>\n",
       "    <tr>\n",
       "      <th>0</th>\n",
       "      <td>Alice</td>\n",
       "      <td>90</td>\n",
       "      <td>1</td>\n",
       "      <td>Inglesa</td>\n",
       "    </tr>\n",
       "    <tr>\n",
       "      <th>1</th>\n",
       "      <td>Bob</td>\n",
       "      <td>85</td>\n",
       "      <td>2</td>\n",
       "      <td>Canadience</td>\n",
       "    </tr>\n",
       "    <tr>\n",
       "      <th>2</th>\n",
       "      <td>Charlie</td>\n",
       "      <td>92</td>\n",
       "      <td>3</td>\n",
       "      <td>Australiano</td>\n",
       "    </tr>\n",
       "  </tbody>\n",
       "</table>\n",
       "</div>"
      ],
      "text/plain": [
       "    Nombre  Puntaje  Posicion Nacionalidad\n",
       "0    Alice       90         1      Inglesa\n",
       "1      Bob       85         2   Canadience\n",
       "2  Charlie       92         3  Australiano"
      ]
     },
     "execution_count": 32,
     "metadata": {},
     "output_type": "execute_result"
    }
   ],
   "source": [
    "df_Nplus.drop('Nulos', axis=1, inplace=True)\n",
    "\n",
    "df_Nplus\n"
   ]
  },
  {
   "cell_type": "markdown",
   "metadata": {},
   "source": [
    "## Ejercicio 1"
   ]
  },
  {
   "cell_type": "markdown",
   "metadata": {},
   "source": [
    "Crea un DataFrame con datos de estudiantes que incluye las columnas Nombre y Edad. Luego, añade una nueva columna llamada Promedio con las calificaciones promedio de los estudiantes."
   ]
  },
  {
   "cell_type": "markdown",
   "metadata": {},
   "source": [
    "### Respuesta"
   ]
  },
  {
   "cell_type": "code",
   "execution_count": 34,
   "metadata": {},
   "outputs": [],
   "source": [
    "alumnos = {\n",
    "    \"Nombre\": [\"Goku\", \"Vegueta\", \"Trunks\"],\n",
    "    \"Edad\": [45, 50, 25]\n",
    "}"
   ]
  },
  {
   "cell_type": "code",
   "execution_count": 35,
   "metadata": {},
   "outputs": [
    {
     "data": {
      "text/html": [
       "<div>\n",
       "<style scoped>\n",
       "    .dataframe tbody tr th:only-of-type {\n",
       "        vertical-align: middle;\n",
       "    }\n",
       "\n",
       "    .dataframe tbody tr th {\n",
       "        vertical-align: top;\n",
       "    }\n",
       "\n",
       "    .dataframe thead th {\n",
       "        text-align: right;\n",
       "    }\n",
       "</style>\n",
       "<table border=\"1\" class=\"dataframe\">\n",
       "  <thead>\n",
       "    <tr style=\"text-align: right;\">\n",
       "      <th></th>\n",
       "      <th>Nombre</th>\n",
       "      <th>Edad</th>\n",
       "    </tr>\n",
       "  </thead>\n",
       "  <tbody>\n",
       "    <tr>\n",
       "      <th>0</th>\n",
       "      <td>Goku</td>\n",
       "      <td>45</td>\n",
       "    </tr>\n",
       "    <tr>\n",
       "      <th>1</th>\n",
       "      <td>Vegueta</td>\n",
       "      <td>50</td>\n",
       "    </tr>\n",
       "    <tr>\n",
       "      <th>2</th>\n",
       "      <td>Trunks</td>\n",
       "      <td>25</td>\n",
       "    </tr>\n",
       "  </tbody>\n",
       "</table>\n",
       "</div>"
      ],
      "text/plain": [
       "    Nombre  Edad\n",
       "0     Goku    45\n",
       "1  Vegueta    50\n",
       "2   Trunks    25"
      ]
     },
     "execution_count": 35,
     "metadata": {},
     "output_type": "execute_result"
    }
   ],
   "source": [
    "df_alumnos = pd.DataFrame(alumnos)\n",
    "df_alumnos"
   ]
  },
  {
   "cell_type": "code",
   "execution_count": 36,
   "metadata": {},
   "outputs": [
    {
     "data": {
      "text/html": [
       "<div>\n",
       "<style scoped>\n",
       "    .dataframe tbody tr th:only-of-type {\n",
       "        vertical-align: middle;\n",
       "    }\n",
       "\n",
       "    .dataframe tbody tr th {\n",
       "        vertical-align: top;\n",
       "    }\n",
       "\n",
       "    .dataframe thead th {\n",
       "        text-align: right;\n",
       "    }\n",
       "</style>\n",
       "<table border=\"1\" class=\"dataframe\">\n",
       "  <thead>\n",
       "    <tr style=\"text-align: right;\">\n",
       "      <th></th>\n",
       "      <th>Nombre</th>\n",
       "      <th>Edad</th>\n",
       "      <th>Promedio</th>\n",
       "    </tr>\n",
       "  </thead>\n",
       "  <tbody>\n",
       "    <tr>\n",
       "      <th>0</th>\n",
       "      <td>Goku</td>\n",
       "      <td>45</td>\n",
       "      <td>9.0</td>\n",
       "    </tr>\n",
       "    <tr>\n",
       "      <th>1</th>\n",
       "      <td>Vegueta</td>\n",
       "      <td>50</td>\n",
       "      <td>9.5</td>\n",
       "    </tr>\n",
       "    <tr>\n",
       "      <th>2</th>\n",
       "      <td>Trunks</td>\n",
       "      <td>25</td>\n",
       "      <td>8.8</td>\n",
       "    </tr>\n",
       "  </tbody>\n",
       "</table>\n",
       "</div>"
      ],
      "text/plain": [
       "    Nombre  Edad  Promedio\n",
       "0     Goku    45       9.0\n",
       "1  Vegueta    50       9.5\n",
       "2   Trunks    25       8.8"
      ]
     },
     "execution_count": 36,
     "metadata": {},
     "output_type": "execute_result"
    }
   ],
   "source": [
    "df_alumnos = df_alumnos.assign(Promedio=[9.0, 9.5,8.8])\n",
    "df_alumnos"
   ]
  },
  {
   "cell_type": "markdown",
   "metadata": {},
   "source": [
    "## Ejercicio 2"
   ]
  },
  {
   "cell_type": "markdown",
   "metadata": {},
   "source": [
    "Supongamos que tienes un DataFrame con datos de ventas que incluye las columnas Producto, Cantidad, Precio y Total. Elimina la columna Total ya que no es necesaria para tu análisis."
   ]
  },
  {
   "cell_type": "markdown",
   "metadata": {},
   "source": [
    "### Respuesta"
   ]
  },
  {
   "cell_type": "code",
   "execution_count": 37,
   "metadata": {},
   "outputs": [],
   "source": [
    "ventas_fruteria = {\n",
    "    \"Producto\":[\"Manzana\",\"Pera\", \"Aguacate\"],\n",
    "    \"Cantidad\":[2, 4,8],\n",
    "    \"Precio\":[5, 3, 10],\n",
    "    \"Total\": [10,12, 80]\n",
    "}"
   ]
  },
  {
   "cell_type": "code",
   "execution_count": 38,
   "metadata": {},
   "outputs": [
    {
     "data": {
      "text/html": [
       "<div>\n",
       "<style scoped>\n",
       "    .dataframe tbody tr th:only-of-type {\n",
       "        vertical-align: middle;\n",
       "    }\n",
       "\n",
       "    .dataframe tbody tr th {\n",
       "        vertical-align: top;\n",
       "    }\n",
       "\n",
       "    .dataframe thead th {\n",
       "        text-align: right;\n",
       "    }\n",
       "</style>\n",
       "<table border=\"1\" class=\"dataframe\">\n",
       "  <thead>\n",
       "    <tr style=\"text-align: right;\">\n",
       "      <th></th>\n",
       "      <th>Producto</th>\n",
       "      <th>Cantidad</th>\n",
       "      <th>Precio</th>\n",
       "      <th>Total</th>\n",
       "    </tr>\n",
       "  </thead>\n",
       "  <tbody>\n",
       "    <tr>\n",
       "      <th>0</th>\n",
       "      <td>Manzana</td>\n",
       "      <td>2</td>\n",
       "      <td>5</td>\n",
       "      <td>10</td>\n",
       "    </tr>\n",
       "    <tr>\n",
       "      <th>1</th>\n",
       "      <td>Pera</td>\n",
       "      <td>4</td>\n",
       "      <td>3</td>\n",
       "      <td>12</td>\n",
       "    </tr>\n",
       "    <tr>\n",
       "      <th>2</th>\n",
       "      <td>Aguacate</td>\n",
       "      <td>8</td>\n",
       "      <td>10</td>\n",
       "      <td>80</td>\n",
       "    </tr>\n",
       "  </tbody>\n",
       "</table>\n",
       "</div>"
      ],
      "text/plain": [
       "   Producto  Cantidad  Precio  Total\n",
       "0   Manzana         2       5     10\n",
       "1      Pera         4       3     12\n",
       "2  Aguacate         8      10     80"
      ]
     },
     "execution_count": 38,
     "metadata": {},
     "output_type": "execute_result"
    }
   ],
   "source": [
    "df_frutas_venidas = pd.DataFrame(ventas_fruteria)\n",
    "df_frutas_venidas"
   ]
  },
  {
   "cell_type": "code",
   "execution_count": 39,
   "metadata": {},
   "outputs": [
    {
     "data": {
      "text/html": [
       "<div>\n",
       "<style scoped>\n",
       "    .dataframe tbody tr th:only-of-type {\n",
       "        vertical-align: middle;\n",
       "    }\n",
       "\n",
       "    .dataframe tbody tr th {\n",
       "        vertical-align: top;\n",
       "    }\n",
       "\n",
       "    .dataframe thead th {\n",
       "        text-align: right;\n",
       "    }\n",
       "</style>\n",
       "<table border=\"1\" class=\"dataframe\">\n",
       "  <thead>\n",
       "    <tr style=\"text-align: right;\">\n",
       "      <th></th>\n",
       "      <th>Producto</th>\n",
       "      <th>Cantidad</th>\n",
       "      <th>Precio</th>\n",
       "    </tr>\n",
       "  </thead>\n",
       "  <tbody>\n",
       "    <tr>\n",
       "      <th>0</th>\n",
       "      <td>Manzana</td>\n",
       "      <td>2</td>\n",
       "      <td>5</td>\n",
       "    </tr>\n",
       "    <tr>\n",
       "      <th>1</th>\n",
       "      <td>Pera</td>\n",
       "      <td>4</td>\n",
       "      <td>3</td>\n",
       "    </tr>\n",
       "    <tr>\n",
       "      <th>2</th>\n",
       "      <td>Aguacate</td>\n",
       "      <td>8</td>\n",
       "      <td>10</td>\n",
       "    </tr>\n",
       "  </tbody>\n",
       "</table>\n",
       "</div>"
      ],
      "text/plain": [
       "   Producto  Cantidad  Precio\n",
       "0   Manzana         2       5\n",
       "1      Pera         4       3\n",
       "2  Aguacate         8      10"
      ]
     },
     "execution_count": 39,
     "metadata": {},
     "output_type": "execute_result"
    }
   ],
   "source": [
    "del df_frutas_venidas['Total']\n",
    "df_frutas_venidas"
   ]
  },
  {
   "cell_type": "markdown",
   "metadata": {},
   "source": [
    "## Ejercicio 3"
   ]
  },
  {
   "cell_type": "markdown",
   "metadata": {},
   "source": [
    "Crea un DataFrame con datos de empleados que incluye las columnas Nombre, Salario y Horas_Trabajadas. Añade una nueva columna llamada Ingresos_Anuales que calcule el ingreso anual de cada empleado multiplicando el salario por las horas trabajadas."
   ]
  },
  {
   "cell_type": "markdown",
   "metadata": {},
   "source": [
    "### Respuesta"
   ]
  },
  {
   "cell_type": "code",
   "execution_count": 3,
   "metadata": {},
   "outputs": [],
   "source": [
    "empleados = {\n",
    "    \"Nombre\": [\"Homero\", \"Bart\", \"March\", \"Lisa\"],\n",
    "    \"Salario_hora\": [25,28,24,29],\n",
    "    \"Horas_trabajadas\": [200, 190, 160, 180]\n",
    "}"
   ]
  },
  {
   "cell_type": "code",
   "execution_count": 4,
   "metadata": {},
   "outputs": [
    {
     "data": {
      "text/html": [
       "<div>\n",
       "<style scoped>\n",
       "    .dataframe tbody tr th:only-of-type {\n",
       "        vertical-align: middle;\n",
       "    }\n",
       "\n",
       "    .dataframe tbody tr th {\n",
       "        vertical-align: top;\n",
       "    }\n",
       "\n",
       "    .dataframe thead th {\n",
       "        text-align: right;\n",
       "    }\n",
       "</style>\n",
       "<table border=\"1\" class=\"dataframe\">\n",
       "  <thead>\n",
       "    <tr style=\"text-align: right;\">\n",
       "      <th></th>\n",
       "      <th>Nombre</th>\n",
       "      <th>Salario_hora</th>\n",
       "      <th>Horas_trabajadas</th>\n",
       "    </tr>\n",
       "  </thead>\n",
       "  <tbody>\n",
       "    <tr>\n",
       "      <th>0</th>\n",
       "      <td>Homero</td>\n",
       "      <td>25</td>\n",
       "      <td>200</td>\n",
       "    </tr>\n",
       "    <tr>\n",
       "      <th>1</th>\n",
       "      <td>Bart</td>\n",
       "      <td>28</td>\n",
       "      <td>190</td>\n",
       "    </tr>\n",
       "    <tr>\n",
       "      <th>2</th>\n",
       "      <td>March</td>\n",
       "      <td>24</td>\n",
       "      <td>160</td>\n",
       "    </tr>\n",
       "    <tr>\n",
       "      <th>3</th>\n",
       "      <td>Lisa</td>\n",
       "      <td>29</td>\n",
       "      <td>180</td>\n",
       "    </tr>\n",
       "  </tbody>\n",
       "</table>\n",
       "</div>"
      ],
      "text/plain": [
       "   Nombre  Salario_hora  Horas_trabajadas\n",
       "0  Homero            25               200\n",
       "1    Bart            28               190\n",
       "2   March            24               160\n",
       "3    Lisa            29               180"
      ]
     },
     "execution_count": 4,
     "metadata": {},
     "output_type": "execute_result"
    }
   ],
   "source": [
    "df_nomina = pd.DataFrame(empleados)\n",
    "df_nomina"
   ]
  },
  {
   "cell_type": "code",
   "execution_count": 14,
   "metadata": {},
   "outputs": [
    {
     "data": {
      "text/html": [
       "<div>\n",
       "<style scoped>\n",
       "    .dataframe tbody tr th:only-of-type {\n",
       "        vertical-align: middle;\n",
       "    }\n",
       "\n",
       "    .dataframe tbody tr th {\n",
       "        vertical-align: top;\n",
       "    }\n",
       "\n",
       "    .dataframe thead th {\n",
       "        text-align: right;\n",
       "    }\n",
       "</style>\n",
       "<table border=\"1\" class=\"dataframe\">\n",
       "  <thead>\n",
       "    <tr style=\"text-align: right;\">\n",
       "      <th></th>\n",
       "      <th>Nombre</th>\n",
       "      <th>Salario_hora</th>\n",
       "      <th>Horas_trabajadas</th>\n",
       "      <th>Ingresos</th>\n",
       "    </tr>\n",
       "  </thead>\n",
       "  <tbody>\n",
       "    <tr>\n",
       "      <th>0</th>\n",
       "      <td>Homero</td>\n",
       "      <td>25</td>\n",
       "      <td>200</td>\n",
       "      <td>5000</td>\n",
       "    </tr>\n",
       "    <tr>\n",
       "      <th>1</th>\n",
       "      <td>Bart</td>\n",
       "      <td>28</td>\n",
       "      <td>190</td>\n",
       "      <td>5320</td>\n",
       "    </tr>\n",
       "    <tr>\n",
       "      <th>2</th>\n",
       "      <td>March</td>\n",
       "      <td>24</td>\n",
       "      <td>160</td>\n",
       "      <td>3840</td>\n",
       "    </tr>\n",
       "    <tr>\n",
       "      <th>3</th>\n",
       "      <td>Lisa</td>\n",
       "      <td>29</td>\n",
       "      <td>180</td>\n",
       "      <td>5220</td>\n",
       "    </tr>\n",
       "  </tbody>\n",
       "</table>\n",
       "</div>"
      ],
      "text/plain": [
       "   Nombre  Salario_hora  Horas_trabajadas  Ingresos\n",
       "0  Homero            25               200      5000\n",
       "1    Bart            28               190      5320\n",
       "2   March            24               160      3840\n",
       "3    Lisa            29               180      5220"
      ]
     },
     "execution_count": 14,
     "metadata": {},
     "output_type": "execute_result"
    }
   ],
   "source": [
    "df_nomina = df_nomina.assign(Ingresos=df_nomina[\"Horas_trabajadas\"]*df_nomina[\"Salario_hora\"])\n",
    "df_nomina"
   ]
  },
  {
   "cell_type": "markdown",
   "metadata": {},
   "source": [
    "## Modificar valores"
   ]
  },
  {
   "cell_type": "markdown",
   "metadata": {},
   "source": [
    "Al momento de analizar datos es común que los valores dentro de nuestros data set debán ser modificados con la finalidad de tener datos más limpios y adecuados para nuestros análisis, ya que los datos limpios son esenciales para obtener resultados precisos en análisis posteriores.\n",
    "\n",
    "Además nuestros datos pueden requerir transformaciones para que sean más adecuados para el modelado. Esto puede incluir la *conversión de tipos de datos, normalización, escalado y la creación de nuevas características derivadas*.\n",
    "\n",
    "Debes tener en cuenta que en el día a día de tu trabajo como data science tendrás la necesidad de personalizar tus DataFrames para adaptarlos a necesidades específicas de tus análisis. Esto puede incluir la adición de nuevas columnas, la eliminación de columnas innecesarias y la renombración de columnas para que los datos sean más comprensibles y relevantes. Sin mencionar que en muchos casos, deberás  realizar cálculos y agregaciones en los datos para obtener información valiosa. La modificación de datos te permitirá realizar estos cálculos y resúmenes, lo que puede incluir la creación de columnas calculadas, la agregación de datos por grupos y la obtención de estadísticas resumidas.\n",
    "\n",
    "De nuevo; Pandas es una herramienta potente que no ayudá a realizar esta tarea de forma fácil, rápida y eficicente."
   ]
  },
  {
   "cell_type": "markdown",
   "metadata": {},
   "source": [
    "## ¿Cómo modificar datos con Pandas?"
   ]
  },
  {
   "cell_type": "markdown",
   "metadata": {},
   "source": [
    "La modificación de datos con Pandas implica diversas operaciones que te permiten limpiar, transformar y personalizar tus datos. A continuación exploraremos una forma de como abordar esta tarea.\n",
    "\n",
    "*Obviaremos los pasos de importación de la libreria y carga de datos a trabajar.*"
   ]
  },
  {
   "cell_type": "markdown",
   "metadata": {},
   "source": [
    "**1.- Limpiar tu dataset**"
   ]
  },
  {
   "cell_type": "markdown",
   "metadata": {},
   "source": [
    "\n",
    "*Eliminar filas con valores nulos*\n",
    "\n",
    "La eliminación de filas con valores nulos es útil para garantizar que tus análisis se basen en datos completos. Para ayudarnos con está acción Pandas nos proporciona el método **dropna()** para eliminar filas con valores nulos."
   ]
  },
  {
   "cell_type": "code",
   "execution_count": null,
   "metadata": {},
   "outputs": [],
   "source": [
    "#No ejecutes está celda\n",
    "\n",
    "# Eliminar filas con valores nulos\n",
    "df = df.dropna()\n",
    " \"\"\"\n",
    " Dónde:\n",
    "\n",
    " df           --Es el nombre del data frame que contiene nuestros datos--\n",
    " .dropna()    --Es el método que eliminará las filas que contengan valores nulos--\n",
    "\n",
    " \"\"\""
   ]
  },
  {
   "cell_type": "markdown",
   "metadata": {},
   "source": [
    "*Eliminar duplicados*\n",
    "\n",
    "La eliminación de duplicados es útil para eliminar registros repetidos en tus datos, lo que puede mejorar la precisión de tus análisis."
   ]
  },
  {
   "cell_type": "code",
   "execution_count": null,
   "metadata": {},
   "outputs": [],
   "source": [
    "#No ejecutar esta celda\n",
    "\n",
    "# Eliminar filas duplicadas\n",
    "df = df.drop_duplicates()\n"
   ]
  },
  {
   "cell_type": "markdown",
   "metadata": {},
   "source": [
    "*Corregir errores de datos*\n",
    "\n",
    "Puedes utilizar operaciones de indexación y asignación para corregir valores incorrectos o inconsistentes en tus datos."
   ]
  },
  {
   "cell_type": "code",
   "execution_count": null,
   "metadata": {},
   "outputs": [],
   "source": [
    "#No ejecutes esta celda\n",
    "\n",
    "# Reemplazar un valor incorrecto\n",
    "df.loc[df['Columna'] == valor_incorrecto, 'Columna'] = valor_corregido\n"
   ]
  },
  {
   "cell_type": "markdown",
   "metadata": {},
   "source": [
    "En el ejemplo usamos *loc* que es loc es un método utilizado en Pandas para la selección y filtrado de datos en un DataFrame basado en etiquetas. Se utiliza para acceder a filas y columnas específicas del DataFrame mediante etiquetas, en lugar de índices enteros. loc es especialmente útil cuando deseas realizar selecciones basadas en etiquetas de filas o columnas en lugar de sus posiciones numéricas."
   ]
  },
  {
   "cell_type": "markdown",
   "metadata": {},
   "source": [
    "*Si deseas profundizar en este metodo puedes dirigirte al directorio Metodos_pandas*"
   ]
  },
  {
   "cell_type": "markdown",
   "metadata": {},
   "source": [
    "**Transformación de datos**"
   ]
  },
  {
   "cell_type": "markdown",
   "metadata": {},
   "source": [
    "*Cambiar tipos de datos*\n",
    "\n",
    "Cambiar tipos de datos es útil para asegurarte de que tus datos se almacenen en el tipo correcto. Utiliza el método astype()."
   ]
  },
  {
   "cell_type": "code",
   "execution_count": null,
   "metadata": {},
   "outputs": [],
   "source": [
    "#No ejecutar esta celda\n",
    "\n",
    "# Cambiar el tipo de datos de una columna\n",
    "df['Columna'] = df['Columna'].astype(int)\n"
   ]
  },
  {
   "cell_type": "markdown",
   "metadata": {},
   "source": [
    "*Realizar calculos*\n",
    "\n",
    "Realizar cálculos es esencial para crear nuevas columnas calculadas a partir de los datos existentes."
   ]
  },
  {
   "cell_type": "code",
   "execution_count": null,
   "metadata": {},
   "outputs": [],
   "source": [
    "#No ejecutar está celda\n",
    "\n",
    "# Crear una nueva columna calculada\n",
    "df['Nueva_Columna'] = df['Columna1'] * df['Columna2']\n"
   ]
  },
  {
   "cell_type": "markdown",
   "metadata": {},
   "source": [
    "*Normalizar o escalar datos númericos*\n",
    "\n",
    "La normalización y el escalado son útiles en el procesamiento de datos numéricos para que tengan la misma escala, lo que facilita la comparación de variables.\n",
    "\n",
    "Esto se refiere a ajustar los valores de una variable numérica para que estén en una escala específica o sigan una distribución particular."
   ]
  },
  {
   "cell_type": "markdown",
   "metadata": {},
   "source": [
    "*Codificar categorias*\n",
    "\n",
    "La codificación de variables categóricas es útil para convertir variables categóricas en valores numéricos que los algoritmos de aprendizaje automático pueden comprender."
   ]
  },
  {
   "cell_type": "code",
   "execution_count": null,
   "metadata": {},
   "outputs": [],
   "source": [
    "#No ejecutar esta celda\n",
    "\n",
    "# Codificar variables categóricas usando get_dummies\n",
    "df = pd.get_dummies(df, columns=['Variable_Categórica'])\n"
   ]
  },
  {
   "cell_type": "markdown",
   "metadata": {},
   "source": [
    "**Agregación y resumen de datos**\n",
    "\n",
    "Puedes agregar y resumir datos utilizando funciones como groupby() para agrupar datos y luego aplicar funciones de agregación como sum(), mean(), max(), etc."
   ]
  },
  {
   "cell_type": "code",
   "execution_count": null,
   "metadata": {},
   "outputs": [],
   "source": [
    "# Calcular el promedio de ventas por producto\n",
    "promedio_ventas = df.groupby('Producto')['Ventas'].mean()\n"
   ]
  },
  {
   "cell_type": "markdown",
   "metadata": {},
   "source": [
    "El ejemplo muestra una agregación por grupo que es útil porque permite resumir los datos y obtener estadísticas útiles, como promedios, sumas y conteos para cada categoría, lo que facilita el análisis."
   ]
  },
  {
   "cell_type": "markdown",
   "metadata": {},
   "source": [
    "### Respuesta"
   ]
  }
 ],
 "metadata": {
  "kernelspec": {
   "display_name": "venv_hola_pandas",
   "language": "python",
   "name": "python3"
  },
  "language_info": {
   "codemirror_mode": {
    "name": "ipython",
    "version": 3
   },
   "file_extension": ".py",
   "mimetype": "text/x-python",
   "name": "python",
   "nbconvert_exporter": "python",
   "pygments_lexer": "ipython3",
   "version": "3.7.3"
  }
 },
 "nbformat": 4,
 "nbformat_minor": 2
}
