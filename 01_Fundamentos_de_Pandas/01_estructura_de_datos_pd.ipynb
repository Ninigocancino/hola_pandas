{
 "cells": [
  {
   "cell_type": "markdown",
   "metadata": {},
   "source": [
    "# Estructuras de datos en Pandas\n",
    "\n",
    "La libreria de Pandas ofrece dos estructuras de datos fundamentales las Series y los DataFrame ambas estructuras se consideran escenciales para el manejo y analisis de datos con Python."
   ]
  },
  {
   "cell_type": "markdown",
   "metadata": {},
   "source": [
    "## Series\n",
    "\n",
    "Podemos pensar en una serie de Pandas como si fuera una columna de excel o de una base de datos, es una estructura de datos unidimensional que se utiliza para almacenar y manipular datos.\n",
    "\n",
    "Cada elemento de una Serie tiene una etiqueta, llamada \"índice\", que puede ser una etiqueta numérica o una etiqueta personalizada. Las Series pueden contener datos de diversos tipos, incluyendo números, cadenas de texto, fechas y más.\n",
    "\n",
    "Una serie es un elemneto similar a un Array o una Lista de Python. "
   ]
  },
  {
   "cell_type": "markdown",
   "metadata": {},
   "source": [
    "**Podemos usar pandas para crear series de la siguiente forma**\n",
    "\n",
    "Primero debemos instalar dentro de nuestro entorno de trabajo la libreria usando PIP\n",
    "\n",
    "*pip install pandas*\n",
    "\n",
    "Una vez que Pandas esté instalado, puedes comenzar a usarlo en tu código. Importando la biblioteca en tus scripts de Python de la siguiente manera:"
   ]
  },
  {
   "cell_type": "code",
   "execution_count": 1,
   "metadata": {},
   "outputs": [],
   "source": [
    "#Se realiza la importación de la libreria a nuestro scrpit de python\n",
    "import pandas as pd"
   ]
  },
  {
   "cell_type": "markdown",
   "metadata": {},
   "source": [
    "Vamos a crear una serie a partir de una lista"
   ]
  },
  {
   "cell_type": "code",
   "execution_count": 2,
   "metadata": {},
   "outputs": [
    {
     "name": "stdout",
     "output_type": "stream",
     "text": [
      "[1, 2, 3, 4, 5, 6]\n"
     ]
    }
   ],
   "source": [
    "#Para lo cual definiremos primero la lista usando Python\n",
    "\n",
    "lista_e = [1,2,3,4,5,6]\n",
    "print(lista_e)"
   ]
  },
  {
   "cell_type": "code",
   "execution_count": 3,
   "metadata": {},
   "outputs": [
    {
     "name": "stdout",
     "output_type": "stream",
     "text": [
      "0    1\n",
      "1    2\n",
      "2    3\n",
      "3    4\n",
      "4    5\n",
      "5    6\n",
      "dtype: int64\n"
     ]
    }
   ],
   "source": [
    "#Usando el constructor pd.Series() Pandas realiza la transformacion de nuestra variable lista_e en una serie \n",
    "\n",
    "serie_e = pd.Series(lista_e)\n",
    "print(serie_e)"
   ]
  },
  {
   "cell_type": "markdown",
   "metadata": {},
   "source": [
    "### Practiquemos la construcción de series con Pandas"
   ]
  },
  {
   "cell_type": "markdown",
   "metadata": {},
   "source": [
    "**Ejercicio 1 (Creación de una Serie):**\n",
    "Crea una Serie que contenga los siguientes nombres de ciudades: \"Nueva York\", \"Los Ángeles\", \"Chicago\", \"Houston\" y \"Miami\". Asigna un índice numérico a cada ciudad."
   ]
  },
  {
   "cell_type": "code",
   "execution_count": 4,
   "metadata": {},
   "outputs": [
    {
     "name": "stdout",
     "output_type": "stream",
     "text": [
      "1     Nueva York\n",
      "2    Los Angeles\n",
      "3        Chicago\n",
      "4        Houston\n",
      "5          Miami\n",
      "dtype: object\n"
     ]
    }
   ],
   "source": [
    "ciudades = pd.Series([\"Nueva York\", \"Los Angeles\", \"Chicago\", \"Houston\", \"Miami\"], index=[1,2,3,4,5])\n",
    "print(ciudades)"
   ]
  },
  {
   "cell_type": "markdown",
   "metadata": {},
   "source": [
    "**Ejercicio 2 (Acceso a Elementos):**\n",
    "Accede al segundo elemento de la Serie creada en el ejercicio 1 y muestra el nombre de la ciudad."
   ]
  },
  {
   "cell_type": "code",
   "execution_count": 5,
   "metadata": {},
   "outputs": [
    {
     "data": {
      "text/plain": [
       "'Nueva York'"
      ]
     },
     "execution_count": 5,
     "metadata": {},
     "output_type": "execute_result"
    }
   ],
   "source": [
    "ciudades[1]"
   ]
  },
  {
   "cell_type": "markdown",
   "metadata": {},
   "source": [
    "**Ejercicio 3 (Operaciones Matemáticas):**\n",
    "Crea una Serie con datos numéricos y realiza operaciones matemáticas como suma, resta y multiplicación en los elementos de la Serie."
   ]
  },
  {
   "cell_type": "code",
   "execution_count": 6,
   "metadata": {},
   "outputs": [
    {
     "data": {
      "text/plain": [
       "0    1\n",
       "1    2\n",
       "2    3\n",
       "3    4\n",
       "4    5\n",
       "5    6\n",
       "dtype: int64"
      ]
     },
     "execution_count": 6,
     "metadata": {},
     "output_type": "execute_result"
    }
   ],
   "source": [
    "numeros = pd.Series([1,2,3,4,5,6])\n",
    "numeros"
   ]
  },
  {
   "cell_type": "code",
   "execution_count": 7,
   "metadata": {},
   "outputs": [
    {
     "name": "stdout",
     "output_type": "stream",
     "text": [
      "8\n"
     ]
    }
   ],
   "source": [
    "operacion = numeros[1] + numeros[5]\n",
    "print(operacion)"
   ]
  },
  {
   "cell_type": "markdown",
   "metadata": {},
   "source": [
    "**Ejercicio 4 (Filtrado de Datos):**\n",
    "A partir de una Serie de números, filtra y muestra los valores mayores que 50."
   ]
  },
  {
   "cell_type": "code",
   "execution_count": 8,
   "metadata": {},
   "outputs": [
    {
     "data": {
      "text/plain": [
       "0    10\n",
       "1    20\n",
       "2    34\n",
       "3    55\n",
       "4    88\n",
       "5    49\n",
       "6     8\n",
       "7    12\n",
       "dtype: int64"
      ]
     },
     "execution_count": 8,
     "metadata": {},
     "output_type": "execute_result"
    }
   ],
   "source": [
    "secuencia = pd.Series([10,20,34,55,88,49,8,12])\n",
    "secuencia"
   ]
  },
  {
   "cell_type": "code",
   "execution_count": 10,
   "metadata": {},
   "outputs": [
    {
     "data": {
      "text/plain": [
       "3    55\n",
       "4    88\n",
       "dtype: int64"
      ]
     },
     "execution_count": 10,
     "metadata": {},
     "output_type": "execute_result"
    }
   ],
   "source": [
    "filtro = secuencia[secuencia>50]\n",
    "filtro"
   ]
  },
  {
   "cell_type": "markdown",
   "metadata": {},
   "source": [
    "**Ejercicio 5 (Cambio de Índice):**\n",
    "Cambia el índice de la Serie del ejercicio 1 para que las ciudades tengan etiquetas personalizadas en lugar de índices numéricos."
   ]
  },
  {
   "cell_type": "code",
   "execution_count": 11,
   "metadata": {},
   "outputs": [
    {
     "data": {
      "text/plain": [
       "1     Nueva York\n",
       "2    Los Angeles\n",
       "3        Chicago\n",
       "4        Houston\n",
       "5          Miami\n",
       "dtype: object"
      ]
     },
     "execution_count": 11,
     "metadata": {},
     "output_type": "execute_result"
    }
   ],
   "source": [
    "ciudades"
   ]
  },
  {
   "cell_type": "code",
   "execution_count": 12,
   "metadata": {},
   "outputs": [
    {
     "data": {
      "text/plain": [
       "NY      Nueva York\n",
       "LA     Los Angeles\n",
       "CHI        Chicago\n",
       "HOU        Houston\n",
       "MIA          Miami\n",
       "dtype: object"
      ]
     },
     "execution_count": 12,
     "metadata": {},
     "output_type": "execute_result"
    }
   ],
   "source": [
    "ciudades.index = [\"NY\", \"LA\", \"CHI\", \"HOU\", \"MIA\"]\n",
    "ciudades"
   ]
  },
  {
   "cell_type": "markdown",
   "metadata": {},
   "source": [
    "**Ejercicio 6 (Concatenación de Series):**\n",
    "Crea dos Series separadas con datos relacionados (por ejemplo, una Serie de temperaturas y otra de precipitaciones). Luego, concaténalas en una sola Serie."
   ]
  },
  {
   "cell_type": "markdown",
   "metadata": {},
   "source": [
    "**Forma para concatenar**"
   ]
  },
  {
   "cell_type": "code",
   "execution_count": 13,
   "metadata": {},
   "outputs": [
    {
     "data": {
      "text/plain": [
       "0    a\n",
       "1    b\n",
       "2    c\n",
       "dtype: object"
      ]
     },
     "execution_count": 13,
     "metadata": {},
     "output_type": "execute_result"
    }
   ],
   "source": [
    "#Creamos la primer serie (serie a)\n",
    "s_a = pd.Series([\"a\",\"b\",\"c\"])\n",
    "s_a"
   ]
  },
  {
   "cell_type": "code",
   "execution_count": 14,
   "metadata": {},
   "outputs": [
    {
     "data": {
      "text/plain": [
       "0    d\n",
       "1    e\n",
       "2    f\n",
       "dtype: object"
      ]
     },
     "execution_count": 14,
     "metadata": {},
     "output_type": "execute_result"
    }
   ],
   "source": [
    "#creamosla segunda serie (serie b)\n",
    "s_b = pd.Series([\"d\",\"e\",\"f\"])\n",
    "s_b"
   ]
  },
  {
   "cell_type": "markdown",
   "metadata": {},
   "source": [
    "**usando \"+\"**"
   ]
  },
  {
   "cell_type": "code",
   "execution_count": 15,
   "metadata": {},
   "outputs": [
    {
     "name": "stdout",
     "output_type": "stream",
     "text": [
      "0    ad\n",
      "1    be\n",
      "2    cf\n",
      "dtype: object\n"
     ]
    }
   ],
   "source": [
    "concatenacion_1 = s_a + s_b\n",
    "print(concatenacion_1)"
   ]
  },
  {
   "cell_type": "markdown",
   "metadata": {},
   "source": [
    "**Usando el constructor pd.concat([])**"
   ]
  },
  {
   "cell_type": "code",
   "execution_count": 16,
   "metadata": {},
   "outputs": [
    {
     "data": {
      "text/plain": [
       "0    a\n",
       "1    b\n",
       "2    c\n",
       "0    d\n",
       "1    e\n",
       "2    f\n",
       "dtype: object"
      ]
     },
     "execution_count": 16,
     "metadata": {},
     "output_type": "execute_result"
    }
   ],
   "source": [
    "#usamos el constructor pd.conact([]) para concatenar la seria a y la serie b\n",
    "con = pd.concat([s_a,s_b])\n",
    "con"
   ]
  },
  {
   "cell_type": "markdown",
   "metadata": {},
   "source": [
    "**Usando el metodo append**"
   ]
  },
  {
   "cell_type": "code",
   "execution_count": 17,
   "metadata": {},
   "outputs": [
    {
     "data": {
      "text/plain": [
       "0    a\n",
       "1    b\n",
       "2    c\n",
       "0    d\n",
       "1    e\n",
       "2    f\n",
       "dtype: object"
      ]
     },
     "execution_count": 17,
     "metadata": {},
     "output_type": "execute_result"
    }
   ],
   "source": [
    "concatenacion_2 = s_a.append(s_b)\n",
    "concatenacion_2"
   ]
  },
  {
   "cell_type": "code",
   "execution_count": 18,
   "metadata": {},
   "outputs": [
    {
     "data": {
      "text/plain": [
       "0       PREC\n",
       "1      30 mm\n",
       "2     300 mm\n",
       "3     700 mm\n",
       "4    1000 mm\n",
       "dtype: object"
      ]
     },
     "execution_count": 18,
     "metadata": {},
     "output_type": "execute_result"
    }
   ],
   "source": [
    "precipitaciones = pd.Series([\"PREC\",\"30 mm\", \"300 mm\", \"700 mm\", \"1000 mm\"])\n",
    "precipitaciones"
   ]
  },
  {
   "cell_type": "code",
   "execution_count": 19,
   "metadata": {},
   "outputs": [
    {
     "data": {
      "text/plain": [
       "0    TEMP\n",
       "1     30°\n",
       "2     45°\n",
       "3     25°\n",
       "4     12°\n",
       "dtype: object"
      ]
     },
     "execution_count": 19,
     "metadata": {},
     "output_type": "execute_result"
    }
   ],
   "source": [
    "temperatura = pd.Series([\"TEMP\", \"30°\", \"45°\", \"25°\",\"12°\"])\n",
    "temperatura"
   ]
  },
  {
   "cell_type": "code",
   "execution_count": 20,
   "metadata": {},
   "outputs": [
    {
     "data": {
      "text/plain": [
       "0      PREC   TEMP\n",
       "1      30 mm   30°\n",
       "2     300 mm   45°\n",
       "3     700 mm   25°\n",
       "4    1000 mm   12°\n",
       "dtype: object"
      ]
     },
     "execution_count": 20,
     "metadata": {},
     "output_type": "execute_result"
    }
   ],
   "source": [
    "ejercicio_concatenar = precipitaciones + \"   \" + temperatura\n",
    "ejercicio_concatenar"
   ]
  },
  {
   "cell_type": "markdown",
   "metadata": {},
   "source": [
    "**Ejercicio 7 (Ordenación de Datos):**\n",
    "Crea una Serie desordenada de números y ordénala en orden ascendente."
   ]
  },
  {
   "cell_type": "code",
   "execution_count": 21,
   "metadata": {},
   "outputs": [
    {
     "data": {
      "text/plain": [
       "0      9\n",
       "1     10\n",
       "2      8\n",
       "3     12\n",
       "4      3\n",
       "5      4\n",
       "6      2\n",
       "7      0\n",
       "8      1\n",
       "9      7\n",
       "10     5\n",
       "11    11\n",
       "12     6\n",
       "dtype: int64"
      ]
     },
     "execution_count": 21,
     "metadata": {},
     "output_type": "execute_result"
    }
   ],
   "source": [
    "num_random = pd.Series([9,10,8,12,3,4,2,0,1,7,5,11,6])\n",
    "num_random"
   ]
  },
  {
   "cell_type": "code",
   "execution_count": 22,
   "metadata": {},
   "outputs": [
    {
     "data": {
      "text/plain": [
       "7      0\n",
       "8      1\n",
       "6      2\n",
       "4      3\n",
       "5      4\n",
       "10     5\n",
       "12     6\n",
       "9      7\n",
       "2      8\n",
       "0      9\n",
       "1     10\n",
       "11    11\n",
       "3     12\n",
       "dtype: int64"
      ]
     },
     "execution_count": 22,
     "metadata": {},
     "output_type": "execute_result"
    }
   ],
   "source": [
    "num_random = num_random.sort_values(ascending=True)\n",
    "num_random"
   ]
  },
  {
   "cell_type": "markdown",
   "metadata": {},
   "source": [
    "## DataFrames"
   ]
  },
  {
   "cell_type": "markdown",
   "metadata": {},
   "source": [
    "Dentro de pandas un DataFrame es una estructura de datos bidimensional similara a una tabal de bases de datos o una tabala de excel. \n",
    "\n",
    "Un Pandas Data Frame está compuesto por filas y columnas, donde cada columna es una Serie, cada columna puede contener diferentes tipos de datos, pero todas las columnas dentro de un DataFrame deben tener la misma longitud.\n",
    "\n",
    "Al igual que en una Serie, un DataFrame también tiene un índice que etiqueta las filas (puede ser un índice numérico o personalizado) y adicionalmente cada columna en un DataFrame tiene una etiqueta o nombre que permite identificar los datos contenidos en esa columna. Estas etiquetas suelen ser cadenas de texto.\n",
    "\n",
    "Los DataFrames pueden contener datos de diversos tipos, incluyendo; números, cadenas de texto, fechas, valores nulos y otros tipos de datos, y pueden crecer o reducirse en tamaño en función de los datos que se les agreguen o eliminen. Podemos importar dataframes desde fuentes externas, como archivos CSV o bases de datos, y exportarse en diferentes formatos además de poder crearlos en Pandas desde un conjunto de datos, ya sea en forma de listas, diccionarios o desde una fuente externa, y utilizar la función pd.DataFrame() para convertir esos datos en un DataFrame.\n",
    "\n",
    "Los DataFrames son ideales para trabajar con conjuntos de datos tabulares y realizar análisis de datos."
   ]
  },
  {
   "cell_type": "markdown",
   "metadata": {},
   "source": [
    "**Craer dataframes en Pandas**\n",
    "\n",
    "Primero debemos instalar dentro de nuestro entorno de trabajo la libreria usando PIP\n",
    "\n",
    "*pip install pandas *\n",
    "\n",
    "Una vez que Pandas esté instalado, puedes comenzar a usarlo en tu código. Importando la biblioteca en tus scripts de Python de la siguiente manera:"
   ]
  },
  {
   "cell_type": "code",
   "execution_count": 2,
   "metadata": {},
   "outputs": [],
   "source": [
    "#Se realiza la importación de la libreria a nuestro scrpit de python\n",
    "import pandas as pd"
   ]
  },
  {
   "cell_type": "code",
   "execution_count": 3,
   "metadata": {},
   "outputs": [
    {
     "data": {
      "text/html": [
       "<div>\n",
       "<style scoped>\n",
       "    .dataframe tbody tr th:only-of-type {\n",
       "        vertical-align: middle;\n",
       "    }\n",
       "\n",
       "    .dataframe tbody tr th {\n",
       "        vertical-align: top;\n",
       "    }\n",
       "\n",
       "    .dataframe thead th {\n",
       "        text-align: right;\n",
       "    }\n",
       "</style>\n",
       "<table border=\"1\" class=\"dataframe\">\n",
       "  <thead>\n",
       "    <tr style=\"text-align: right;\">\n",
       "      <th></th>\n",
       "      <th>Nombre</th>\n",
       "      <th>Edad</th>\n",
       "    </tr>\n",
       "  </thead>\n",
       "  <tbody>\n",
       "    <tr>\n",
       "      <th>0</th>\n",
       "      <td>Victor</td>\n",
       "      <td>25</td>\n",
       "    </tr>\n",
       "    <tr>\n",
       "      <th>1</th>\n",
       "      <td>Juan</td>\n",
       "      <td>30</td>\n",
       "    </tr>\n",
       "    <tr>\n",
       "      <th>2</th>\n",
       "      <td>Arturo</td>\n",
       "      <td>35</td>\n",
       "    </tr>\n",
       "  </tbody>\n",
       "</table>\n",
       "</div>"
      ],
      "text/plain": [
       "   Nombre  Edad\n",
       "0  Victor    25\n",
       "1    Juan    30\n",
       "2  Arturo    35"
      ]
     },
     "execution_count": 3,
     "metadata": {},
     "output_type": "execute_result"
    }
   ],
   "source": [
    "# Creación de un DataFrame a partir de un diccionario de Series o listas\n",
    "datos = {'Nombre': [\"Victor\", \"Juan\", \"Arturo\"], 'Edad': [25, 30, 35]}\n",
    "df = pd.DataFrame(datos)\n",
    "df"
   ]
  },
  {
   "cell_type": "code",
   "execution_count": null,
   "metadata": {},
   "outputs": [],
   "source": [
    "# Creación de un DataFrame desde un archivo CSV\n",
    "df = pd.read_csv('datos.csv')"
   ]
  },
  {
   "cell_type": "code",
   "execution_count": 27,
   "metadata": {},
   "outputs": [
    {
     "data": {
      "text/html": [
       "<div>\n",
       "<style scoped>\n",
       "    .dataframe tbody tr th:only-of-type {\n",
       "        vertical-align: middle;\n",
       "    }\n",
       "\n",
       "    .dataframe tbody tr th {\n",
       "        vertical-align: top;\n",
       "    }\n",
       "\n",
       "    .dataframe thead th {\n",
       "        text-align: right;\n",
       "    }\n",
       "</style>\n",
       "<table border=\"1\" class=\"dataframe\">\n",
       "  <thead>\n",
       "    <tr style=\"text-align: right;\">\n",
       "      <th></th>\n",
       "    </tr>\n",
       "  </thead>\n",
       "  <tbody>\n",
       "  </tbody>\n",
       "</table>\n",
       "</div>"
      ],
      "text/plain": [
       "Empty DataFrame\n",
       "Columns: []\n",
       "Index: []"
      ]
     },
     "execution_count": 27,
     "metadata": {},
     "output_type": "execute_result"
    }
   ],
   "source": [
    "# Creación de un DataFrame vacío\n",
    "df_void = pd.DataFrame()\n",
    "df_void"
   ]
  },
  {
   "cell_type": "markdown",
   "metadata": {},
   "source": [
    "###Practiquemos la creación y uso de Data Frames"
   ]
  },
  {
   "cell_type": "markdown",
   "metadata": {},
   "source": [
    "**Ejercicio 1 (Creación de un DataFrame):**\n",
    "Crea un DataFrame que contenga información sobre personas, incluyendo columnas para \"Nombre\", \"Edad\", \"Ciudad\" y \"Profesión\". Los datos pueden ser ficticios."
   ]
  },
  {
   "cell_type": "code",
   "execution_count": 4,
   "metadata": {},
   "outputs": [
    {
     "data": {
      "text/plain": [
       "{'nombre': ['Juan', 'Carlo', 'Maria'],\n",
       " 'Edad': [38, 28, 23],\n",
       " 'Ciudad': ['Mexico', 'Rio', 'Bogota'],\n",
       " 'Profesion': ['programador', 'ingeniero', 'cientifica']}"
      ]
     },
     "execution_count": 4,
     "metadata": {},
     "output_type": "execute_result"
    }
   ],
   "source": [
    "personas = { \"nombre\":[\"Juan\",\"Carlo\",\"Maria\"],\"Edad\": [38,28,23],\"Ciudad\":[\"Mexico\",\"Rio\", \"Bogota\"],\"Profesion\": [\"programador\", \"ingeniero\", \"cientifica\"]} \n",
    "personas"
   ]
  },
  {
   "cell_type": "code",
   "execution_count": 5,
   "metadata": {},
   "outputs": [
    {
     "data": {
      "text/html": [
       "<div>\n",
       "<style scoped>\n",
       "    .dataframe tbody tr th:only-of-type {\n",
       "        vertical-align: middle;\n",
       "    }\n",
       "\n",
       "    .dataframe tbody tr th {\n",
       "        vertical-align: top;\n",
       "    }\n",
       "\n",
       "    .dataframe thead th {\n",
       "        text-align: right;\n",
       "    }\n",
       "</style>\n",
       "<table border=\"1\" class=\"dataframe\">\n",
       "  <thead>\n",
       "    <tr style=\"text-align: right;\">\n",
       "      <th></th>\n",
       "      <th>nombre</th>\n",
       "      <th>Edad</th>\n",
       "      <th>Ciudad</th>\n",
       "      <th>Profesion</th>\n",
       "    </tr>\n",
       "  </thead>\n",
       "  <tbody>\n",
       "    <tr>\n",
       "      <th>0</th>\n",
       "      <td>Juan</td>\n",
       "      <td>38</td>\n",
       "      <td>Mexico</td>\n",
       "      <td>programador</td>\n",
       "    </tr>\n",
       "    <tr>\n",
       "      <th>1</th>\n",
       "      <td>Carlo</td>\n",
       "      <td>28</td>\n",
       "      <td>Rio</td>\n",
       "      <td>ingeniero</td>\n",
       "    </tr>\n",
       "    <tr>\n",
       "      <th>2</th>\n",
       "      <td>Maria</td>\n",
       "      <td>23</td>\n",
       "      <td>Bogota</td>\n",
       "      <td>cientifica</td>\n",
       "    </tr>\n",
       "  </tbody>\n",
       "</table>\n",
       "</div>"
      ],
      "text/plain": [
       "  nombre  Edad  Ciudad    Profesion\n",
       "0   Juan    38  Mexico  programador\n",
       "1  Carlo    28     Rio    ingeniero\n",
       "2  Maria    23  Bogota   cientifica"
      ]
     },
     "execution_count": 5,
     "metadata": {},
     "output_type": "execute_result"
    }
   ],
   "source": [
    "df_persona = pd.DataFrame(personas)\n",
    "df_persona"
   ]
  },
  {
   "cell_type": "markdown",
   "metadata": {},
   "source": [
    "**Ejercicio 2 (Acceso a Datos):**\n",
    "Accede a la columna \"Edad\" del DataFrame creado en el ejercicio 1 y muestra las edades de las personas."
   ]
  },
  {
   "cell_type": "code",
   "execution_count": 30,
   "metadata": {},
   "outputs": [
    {
     "data": {
      "text/plain": [
       "0    38\n",
       "1    28\n",
       "2    23\n",
       "Name: Edad, dtype: int64"
      ]
     },
     "execution_count": 30,
     "metadata": {},
     "output_type": "execute_result"
    }
   ],
   "source": [
    "df_persona[\"Edad\"]"
   ]
  },
  {
   "cell_type": "markdown",
   "metadata": {},
   "source": [
    "**Ejercicio 3 (Filtrado de Datos):**\n",
    "\n",
    "Filtra el DataFrame para mostrar solo las personas que tienen más de 30 años."
   ]
  },
  {
   "cell_type": "code",
   "execution_count": 31,
   "metadata": {},
   "outputs": [
    {
     "data": {
      "text/html": [
       "<div>\n",
       "<style scoped>\n",
       "    .dataframe tbody tr th:only-of-type {\n",
       "        vertical-align: middle;\n",
       "    }\n",
       "\n",
       "    .dataframe tbody tr th {\n",
       "        vertical-align: top;\n",
       "    }\n",
       "\n",
       "    .dataframe thead th {\n",
       "        text-align: right;\n",
       "    }\n",
       "</style>\n",
       "<table border=\"1\" class=\"dataframe\">\n",
       "  <thead>\n",
       "    <tr style=\"text-align: right;\">\n",
       "      <th></th>\n",
       "      <th>nombre</th>\n",
       "      <th>Edad</th>\n",
       "      <th>Ciudad</th>\n",
       "      <th>Profesion</th>\n",
       "    </tr>\n",
       "  </thead>\n",
       "  <tbody>\n",
       "    <tr>\n",
       "      <th>0</th>\n",
       "      <td>Juan</td>\n",
       "      <td>38</td>\n",
       "      <td>Mexico</td>\n",
       "      <td>programador</td>\n",
       "    </tr>\n",
       "  </tbody>\n",
       "</table>\n",
       "</div>"
      ],
      "text/plain": [
       "  nombre  Edad  Ciudad    Profesion\n",
       "0   Juan    38  Mexico  programador"
      ]
     },
     "execution_count": 31,
     "metadata": {},
     "output_type": "execute_result"
    }
   ],
   "source": [
    "mas_35 = df_persona[df_persona[\"Edad\"] > 35]\n",
    "mas_35"
   ]
  },
  {
   "cell_type": "markdown",
   "metadata": {},
   "source": [
    "**Ejercicio 4 (Agregación de Datos):**\n",
    "Calcula la media de las edades en el DataFrame."
   ]
  },
  {
   "cell_type": "code",
   "execution_count": 32,
   "metadata": {},
   "outputs": [
    {
     "data": {
      "text/plain": [
       "28.0"
      ]
     },
     "execution_count": 32,
     "metadata": {},
     "output_type": "execute_result"
    }
   ],
   "source": [
    "df_persona[\"Edad\"].median()"
   ]
  },
  {
   "cell_type": "markdown",
   "metadata": {},
   "source": [
    "**Ejercicio 5 (Ordenación de Datos):**\n",
    "Ordena el DataFrame en función de la columna \"Nombre\" en orden alfabético."
   ]
  },
  {
   "cell_type": "code",
   "execution_count": 6,
   "metadata": {},
   "outputs": [
    {
     "data": {
      "text/html": [
       "<div>\n",
       "<style scoped>\n",
       "    .dataframe tbody tr th:only-of-type {\n",
       "        vertical-align: middle;\n",
       "    }\n",
       "\n",
       "    .dataframe tbody tr th {\n",
       "        vertical-align: top;\n",
       "    }\n",
       "\n",
       "    .dataframe thead th {\n",
       "        text-align: right;\n",
       "    }\n",
       "</style>\n",
       "<table border=\"1\" class=\"dataframe\">\n",
       "  <thead>\n",
       "    <tr style=\"text-align: right;\">\n",
       "      <th></th>\n",
       "      <th>nombre</th>\n",
       "      <th>Edad</th>\n",
       "      <th>Ciudad</th>\n",
       "      <th>Profesion</th>\n",
       "    </tr>\n",
       "  </thead>\n",
       "  <tbody>\n",
       "    <tr>\n",
       "      <th>1</th>\n",
       "      <td>Carlo</td>\n",
       "      <td>28</td>\n",
       "      <td>Rio</td>\n",
       "      <td>ingeniero</td>\n",
       "    </tr>\n",
       "    <tr>\n",
       "      <th>0</th>\n",
       "      <td>Juan</td>\n",
       "      <td>38</td>\n",
       "      <td>Mexico</td>\n",
       "      <td>programador</td>\n",
       "    </tr>\n",
       "    <tr>\n",
       "      <th>2</th>\n",
       "      <td>Maria</td>\n",
       "      <td>23</td>\n",
       "      <td>Bogota</td>\n",
       "      <td>cientifica</td>\n",
       "    </tr>\n",
       "  </tbody>\n",
       "</table>\n",
       "</div>"
      ],
      "text/plain": [
       "  nombre  Edad  Ciudad    Profesion\n",
       "1  Carlo    28     Rio    ingeniero\n",
       "0   Juan    38  Mexico  programador\n",
       "2  Maria    23  Bogota   cientifica"
      ]
     },
     "execution_count": 6,
     "metadata": {},
     "output_type": "execute_result"
    }
   ],
   "source": [
    "df_persona.sort_values(by=[\"nombre\"], ascending=True)"
   ]
  }
 ],
 "metadata": {
  "kernelspec": {
   "display_name": "venv_hola_pandas",
   "language": "python",
   "name": "python3"
  },
  "language_info": {
   "codemirror_mode": {
    "name": "ipython",
    "version": 3
   },
   "file_extension": ".py",
   "mimetype": "text/x-python",
   "name": "python",
   "nbconvert_exporter": "python",
   "pygments_lexer": "ipython3",
   "version": "3.7.3"
  }
 },
 "nbformat": 4,
 "nbformat_minor": 2
}
